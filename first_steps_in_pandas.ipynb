{
 "cells": [
  {
   "cell_type": "markdown",
   "metadata": {},
   "source": [
    "# First steps - and a little of statistics - in pandas"
   ]
  },
  {
   "cell_type": "markdown",
   "metadata": {},
   "source": [
    "Pandas is, in the proper's [pandas](https://pandas.pydata.org/) words:\n",
    "\n",
    "<cite>a fast, powerful, flexible and easy to use open source data analysis and manipulation tool, built on top of the Python programming language.</cite>"
   ]
  },
  {
   "cell_type": "markdown",
   "metadata": {},
   "source": [
    "## 1. Importing pandas"
   ]
  },
  {
   "cell_type": "code",
   "execution_count": 1,
   "metadata": {},
   "outputs": [],
   "source": [
    "import pandas as pd"
   ]
  },
  {
   "cell_type": "markdown",
   "metadata": {},
   "source": [
    "## 2. Creating and visualizing tabular data"
   ]
  },
  {
   "cell_type": "markdown",
   "metadata": {},
   "source": [
    "In **pandas** we work with tabular data, more specifically, a **DataFrame**. A **DataFrame** is composed of _rows_ and _columns_ that are easily represented by its _labels_. If you want you can say that each column is a `series` and a sequence of series forms the `DataFrame`.\n",
    "\n",
    "Formally speaking, a [DataFrame](https://pandas.pydata.org/pandas-docs/stable/reference/api/pandas.DataFrame.html) is a two-dimensional, size-mutable, potentially heterogeneous tabular data."
   ]
  },
  {
   "cell_type": "markdown",
   "metadata": {},
   "source": [
    "### 2.1 Using dictionary"
   ]
  },
  {
   "cell_type": "markdown",
   "metadata": {},
   "source": [
    "One way to create a pandas data frame is writing a dictionary:"
   ]
  },
  {
   "cell_type": "code",
   "execution_count": 2,
   "metadata": {},
   "outputs": [],
   "source": [
    "dogs = {\n",
    "    'Breed': ['Akita', 'Beagle', 'Collie'],\n",
    "    'Group': ['Working', 'Hound', 'Hound'],\n",
    "    'Weight': [45, 11, 22],\n",
    "    'Life span': [11, 14, 12]\n",
    "}"
   ]
  },
  {
   "cell_type": "markdown",
   "metadata": {},
   "source": [
    "Creating a dogs data frame:"
   ]
  },
  {
   "cell_type": "code",
   "execution_count": 3,
   "metadata": {},
   "outputs": [],
   "source": [
    "df_dogs = pd.DataFrame(dogs)"
   ]
  },
  {
   "cell_type": "markdown",
   "metadata": {},
   "source": [
    "Visualizing data frame:"
   ]
  },
  {
   "cell_type": "code",
   "execution_count": 4,
   "metadata": {},
   "outputs": [
    {
     "data": {
      "text/html": [
       "<div>\n",
       "<style scoped>\n",
       "    .dataframe tbody tr th:only-of-type {\n",
       "        vertical-align: middle;\n",
       "    }\n",
       "\n",
       "    .dataframe tbody tr th {\n",
       "        vertical-align: top;\n",
       "    }\n",
       "\n",
       "    .dataframe thead th {\n",
       "        text-align: right;\n",
       "    }\n",
       "</style>\n",
       "<table border=\"1\" class=\"dataframe\">\n",
       "  <thead>\n",
       "    <tr style=\"text-align: right;\">\n",
       "      <th></th>\n",
       "      <th>Breed</th>\n",
       "      <th>Group</th>\n",
       "      <th>Weight</th>\n",
       "      <th>Life span</th>\n",
       "    </tr>\n",
       "  </thead>\n",
       "  <tbody>\n",
       "    <tr>\n",
       "      <th>0</th>\n",
       "      <td>Akita</td>\n",
       "      <td>Working</td>\n",
       "      <td>45</td>\n",
       "      <td>11</td>\n",
       "    </tr>\n",
       "    <tr>\n",
       "      <th>1</th>\n",
       "      <td>Beagle</td>\n",
       "      <td>Hound</td>\n",
       "      <td>11</td>\n",
       "      <td>14</td>\n",
       "    </tr>\n",
       "    <tr>\n",
       "      <th>2</th>\n",
       "      <td>Collie</td>\n",
       "      <td>Hound</td>\n",
       "      <td>22</td>\n",
       "      <td>12</td>\n",
       "    </tr>\n",
       "  </tbody>\n",
       "</table>\n",
       "</div>"
      ],
      "text/plain": [
       "    Breed    Group  Weight  Life span\n",
       "0   Akita  Working      45         11\n",
       "1  Beagle    Hound      11         14\n",
       "2  Collie    Hound      22         12"
      ]
     },
     "execution_count": 4,
     "metadata": {},
     "output_type": "execute_result"
    }
   ],
   "source": [
    "df_dogs"
   ]
  },
  {
   "cell_type": "markdown",
   "metadata": {},
   "source": [
    "Notice that the first column have only numbers. They are the DataFrame **indexes**. To create your own index column you can just pass:"
   ]
  },
  {
   "cell_type": "code",
   "execution_count": 5,
   "metadata": {},
   "outputs": [],
   "source": [
    "df_dogs = pd.DataFrame(dogs, index = ['a', 'b', 'c'])"
   ]
  },
  {
   "cell_type": "code",
   "execution_count": 6,
   "metadata": {},
   "outputs": [
    {
     "data": {
      "text/html": [
       "<div>\n",
       "<style scoped>\n",
       "    .dataframe tbody tr th:only-of-type {\n",
       "        vertical-align: middle;\n",
       "    }\n",
       "\n",
       "    .dataframe tbody tr th {\n",
       "        vertical-align: top;\n",
       "    }\n",
       "\n",
       "    .dataframe thead th {\n",
       "        text-align: right;\n",
       "    }\n",
       "</style>\n",
       "<table border=\"1\" class=\"dataframe\">\n",
       "  <thead>\n",
       "    <tr style=\"text-align: right;\">\n",
       "      <th></th>\n",
       "      <th>Breed</th>\n",
       "      <th>Group</th>\n",
       "      <th>Weight</th>\n",
       "      <th>Life span</th>\n",
       "    </tr>\n",
       "  </thead>\n",
       "  <tbody>\n",
       "    <tr>\n",
       "      <th>a</th>\n",
       "      <td>Akita</td>\n",
       "      <td>Working</td>\n",
       "      <td>45</td>\n",
       "      <td>11</td>\n",
       "    </tr>\n",
       "    <tr>\n",
       "      <th>b</th>\n",
       "      <td>Beagle</td>\n",
       "      <td>Hound</td>\n",
       "      <td>11</td>\n",
       "      <td>14</td>\n",
       "    </tr>\n",
       "    <tr>\n",
       "      <th>c</th>\n",
       "      <td>Collie</td>\n",
       "      <td>Hound</td>\n",
       "      <td>22</td>\n",
       "      <td>12</td>\n",
       "    </tr>\n",
       "  </tbody>\n",
       "</table>\n",
       "</div>"
      ],
      "text/plain": [
       "    Breed    Group  Weight  Life span\n",
       "a   Akita  Working      45         11\n",
       "b  Beagle    Hound      11         14\n",
       "c  Collie    Hound      22         12"
      ]
     },
     "execution_count": 6,
     "metadata": {},
     "output_type": "execute_result"
    }
   ],
   "source": [
    "df_dogs"
   ]
  },
  {
   "cell_type": "markdown",
   "metadata": {},
   "source": [
    "Or you can use the property `index` as:"
   ]
  },
  {
   "cell_type": "code",
   "execution_count": 7,
   "metadata": {},
   "outputs": [
    {
     "data": {
      "text/html": [
       "<div>\n",
       "<style scoped>\n",
       "    .dataframe tbody tr th:only-of-type {\n",
       "        vertical-align: middle;\n",
       "    }\n",
       "\n",
       "    .dataframe tbody tr th {\n",
       "        vertical-align: top;\n",
       "    }\n",
       "\n",
       "    .dataframe thead th {\n",
       "        text-align: right;\n",
       "    }\n",
       "</style>\n",
       "<table border=\"1\" class=\"dataframe\">\n",
       "  <thead>\n",
       "    <tr style=\"text-align: right;\">\n",
       "      <th></th>\n",
       "      <th>Breed</th>\n",
       "      <th>Group</th>\n",
       "      <th>Weight</th>\n",
       "      <th>Life span</th>\n",
       "    </tr>\n",
       "  </thead>\n",
       "  <tbody>\n",
       "    <tr>\n",
       "      <th>0</th>\n",
       "      <td>Akita</td>\n",
       "      <td>Working</td>\n",
       "      <td>45</td>\n",
       "      <td>11</td>\n",
       "    </tr>\n",
       "    <tr>\n",
       "      <th>1</th>\n",
       "      <td>Beagle</td>\n",
       "      <td>Hound</td>\n",
       "      <td>11</td>\n",
       "      <td>14</td>\n",
       "    </tr>\n",
       "    <tr>\n",
       "      <th>2</th>\n",
       "      <td>Collie</td>\n",
       "      <td>Hound</td>\n",
       "      <td>22</td>\n",
       "      <td>12</td>\n",
       "    </tr>\n",
       "  </tbody>\n",
       "</table>\n",
       "</div>"
      ],
      "text/plain": [
       "    Breed    Group  Weight  Life span\n",
       "0   Akita  Working      45         11\n",
       "1  Beagle    Hound      11         14\n",
       "2  Collie    Hound      22         12"
      ]
     },
     "execution_count": 7,
     "metadata": {},
     "output_type": "execute_result"
    }
   ],
   "source": [
    "df_dogs.index = [0, 1, 2]\n",
    "df_dogs"
   ]
  },
  {
   "cell_type": "markdown",
   "metadata": {},
   "source": [
    "### 2.2 Using lists"
   ]
  },
  {
   "cell_type": "markdown",
   "metadata": {},
   "source": [
    "Writing a cat's list:"
   ]
  },
  {
   "cell_type": "code",
   "execution_count": 8,
   "metadata": {},
   "outputs": [],
   "source": [
    "cats = [['Abyssinian', 3.6, 12], ['Bengal', 6.4, 14], ['Manx', 5, 11]]"
   ]
  },
  {
   "cell_type": "markdown",
   "metadata": {},
   "source": [
    "Creating a dictionary:"
   ]
  },
  {
   "cell_type": "code",
   "execution_count": 9,
   "metadata": {},
   "outputs": [],
   "source": [
    "df_cats = pd.DataFrame(cats, columns = ['Breed', 'Weight', 'Life span'])"
   ]
  },
  {
   "cell_type": "markdown",
   "metadata": {},
   "source": [
    "Note that we have used the variable `columns` as a list giving the readers for each data frame column."
   ]
  },
  {
   "cell_type": "code",
   "execution_count": 10,
   "metadata": {},
   "outputs": [
    {
     "data": {
      "text/html": [
       "<div>\n",
       "<style scoped>\n",
       "    .dataframe tbody tr th:only-of-type {\n",
       "        vertical-align: middle;\n",
       "    }\n",
       "\n",
       "    .dataframe tbody tr th {\n",
       "        vertical-align: top;\n",
       "    }\n",
       "\n",
       "    .dataframe thead th {\n",
       "        text-align: right;\n",
       "    }\n",
       "</style>\n",
       "<table border=\"1\" class=\"dataframe\">\n",
       "  <thead>\n",
       "    <tr style=\"text-align: right;\">\n",
       "      <th></th>\n",
       "      <th>Breed</th>\n",
       "      <th>Weight</th>\n",
       "      <th>Life span</th>\n",
       "    </tr>\n",
       "  </thead>\n",
       "  <tbody>\n",
       "    <tr>\n",
       "      <th>0</th>\n",
       "      <td>Abyssinian</td>\n",
       "      <td>3.6</td>\n",
       "      <td>12</td>\n",
       "    </tr>\n",
       "    <tr>\n",
       "      <th>1</th>\n",
       "      <td>Bengal</td>\n",
       "      <td>6.4</td>\n",
       "      <td>14</td>\n",
       "    </tr>\n",
       "    <tr>\n",
       "      <th>2</th>\n",
       "      <td>Manx</td>\n",
       "      <td>5.0</td>\n",
       "      <td>11</td>\n",
       "    </tr>\n",
       "  </tbody>\n",
       "</table>\n",
       "</div>"
      ],
      "text/plain": [
       "        Breed  Weight  Life span\n",
       "0  Abyssinian     3.6         12\n",
       "1      Bengal     6.4         14\n",
       "2        Manx     5.0         11"
      ]
     },
     "execution_count": 10,
     "metadata": {},
     "output_type": "execute_result"
    }
   ],
   "source": [
    "df_cats"
   ]
  },
  {
   "cell_type": "markdown",
   "metadata": {},
   "source": [
    "If you just leave out the headers:"
   ]
  },
  {
   "cell_type": "code",
   "execution_count": 11,
   "metadata": {},
   "outputs": [
    {
     "data": {
      "text/html": [
       "<div>\n",
       "<style scoped>\n",
       "    .dataframe tbody tr th:only-of-type {\n",
       "        vertical-align: middle;\n",
       "    }\n",
       "\n",
       "    .dataframe tbody tr th {\n",
       "        vertical-align: top;\n",
       "    }\n",
       "\n",
       "    .dataframe thead th {\n",
       "        text-align: right;\n",
       "    }\n",
       "</style>\n",
       "<table border=\"1\" class=\"dataframe\">\n",
       "  <thead>\n",
       "    <tr style=\"text-align: right;\">\n",
       "      <th></th>\n",
       "      <th>0</th>\n",
       "      <th>1</th>\n",
       "      <th>2</th>\n",
       "    </tr>\n",
       "  </thead>\n",
       "  <tbody>\n",
       "    <tr>\n",
       "      <th>0</th>\n",
       "      <td>Abyssinian</td>\n",
       "      <td>3.6</td>\n",
       "      <td>12</td>\n",
       "    </tr>\n",
       "    <tr>\n",
       "      <th>1</th>\n",
       "      <td>Bengal</td>\n",
       "      <td>6.4</td>\n",
       "      <td>14</td>\n",
       "    </tr>\n",
       "    <tr>\n",
       "      <th>2</th>\n",
       "      <td>Manx</td>\n",
       "      <td>5.0</td>\n",
       "      <td>11</td>\n",
       "    </tr>\n",
       "  </tbody>\n",
       "</table>\n",
       "</div>"
      ],
      "text/plain": [
       "            0    1   2\n",
       "0  Abyssinian  3.6  12\n",
       "1      Bengal  6.4  14\n",
       "2        Manx  5.0  11"
      ]
     },
     "execution_count": 11,
     "metadata": {},
     "output_type": "execute_result"
    }
   ],
   "source": [
    "df_cats = pd.DataFrame(cats)\n",
    "df_cats"
   ]
  },
  {
   "cell_type": "markdown",
   "metadata": {},
   "source": [
    "You can include them later in the data frame using the `columns` property:"
   ]
  },
  {
   "cell_type": "code",
   "execution_count": 12,
   "metadata": {},
   "outputs": [
    {
     "data": {
      "text/html": [
       "<div>\n",
       "<style scoped>\n",
       "    .dataframe tbody tr th:only-of-type {\n",
       "        vertical-align: middle;\n",
       "    }\n",
       "\n",
       "    .dataframe tbody tr th {\n",
       "        vertical-align: top;\n",
       "    }\n",
       "\n",
       "    .dataframe thead th {\n",
       "        text-align: right;\n",
       "    }\n",
       "</style>\n",
       "<table border=\"1\" class=\"dataframe\">\n",
       "  <thead>\n",
       "    <tr style=\"text-align: right;\">\n",
       "      <th></th>\n",
       "      <th>Breed</th>\n",
       "      <th>Weight</th>\n",
       "      <th>Life span</th>\n",
       "    </tr>\n",
       "  </thead>\n",
       "  <tbody>\n",
       "    <tr>\n",
       "      <th>0</th>\n",
       "      <td>Abyssinian</td>\n",
       "      <td>3.6</td>\n",
       "      <td>12</td>\n",
       "    </tr>\n",
       "    <tr>\n",
       "      <th>1</th>\n",
       "      <td>Bengal</td>\n",
       "      <td>6.4</td>\n",
       "      <td>14</td>\n",
       "    </tr>\n",
       "    <tr>\n",
       "      <th>2</th>\n",
       "      <td>Manx</td>\n",
       "      <td>5.0</td>\n",
       "      <td>11</td>\n",
       "    </tr>\n",
       "  </tbody>\n",
       "</table>\n",
       "</div>"
      ],
      "text/plain": [
       "        Breed  Weight  Life span\n",
       "0  Abyssinian     3.6         12\n",
       "1      Bengal     6.4         14\n",
       "2        Manx     5.0         11"
      ]
     },
     "execution_count": 12,
     "metadata": {},
     "output_type": "execute_result"
    }
   ],
   "source": [
    "headers = ['Breed', 'Weight', 'Life span']\n",
    "df_cats.columns = headers\n",
    "df_cats"
   ]
  },
  {
   "cell_type": "markdown",
   "metadata": {},
   "source": [
    "### 2.3 Using numpy arrays"
   ]
  },
  {
   "cell_type": "markdown",
   "metadata": {},
   "source": [
    "Importing [numpy](https://numpy.org/):"
   ]
  },
  {
   "cell_type": "code",
   "execution_count": 13,
   "metadata": {},
   "outputs": [],
   "source": [
    "import numpy as np"
   ]
  },
  {
   "cell_type": "markdown",
   "metadata": {},
   "source": [
    "Creating data:"
   ]
  },
  {
   "cell_type": "code",
   "execution_count": 14,
   "metadata": {},
   "outputs": [
    {
     "name": "stderr",
     "output_type": "stream",
     "text": [
      "/home/natalidesanti/.local/lib/python3.6/site-packages/ipykernel_launcher.py:4: RuntimeWarning: overflow encountered in exp\n",
      "  after removing the cwd from sys.path.\n"
     ]
    }
   ],
   "source": [
    "x = np.linspace(0.1, 10, 100)\n",
    "y = np.logspace(0, 100, 100)\n",
    "fx = 4.*x + 10\n",
    "gy = (np.exp(y/5000.))**2"
   ]
  },
  {
   "cell_type": "markdown",
   "metadata": {},
   "source": [
    "_The above warning was made with a later intention!_"
   ]
  },
  {
   "cell_type": "markdown",
   "metadata": {},
   "source": [
    "Generating a data frame:"
   ]
  },
  {
   "cell_type": "code",
   "execution_count": 15,
   "metadata": {},
   "outputs": [],
   "source": [
    "data = np.array([x, y, fx, gy]).T\n",
    "columns = ['x', 'y', 'f (x)', 'g (y)']\n",
    "df_arrays = pd.DataFrame(data, columns = columns)"
   ]
  },
  {
   "cell_type": "markdown",
   "metadata": {},
   "source": [
    "Visualizing just a part of the data frame using the method `head`:"
   ]
  },
  {
   "cell_type": "code",
   "execution_count": 16,
   "metadata": {},
   "outputs": [
    {
     "data": {
      "text/html": [
       "<div>\n",
       "<style scoped>\n",
       "    .dataframe tbody tr th:only-of-type {\n",
       "        vertical-align: middle;\n",
       "    }\n",
       "\n",
       "    .dataframe tbody tr th {\n",
       "        vertical-align: top;\n",
       "    }\n",
       "\n",
       "    .dataframe thead th {\n",
       "        text-align: right;\n",
       "    }\n",
       "</style>\n",
       "<table border=\"1\" class=\"dataframe\">\n",
       "  <thead>\n",
       "    <tr style=\"text-align: right;\">\n",
       "      <th></th>\n",
       "      <th>x</th>\n",
       "      <th>y</th>\n",
       "      <th>f (x)</th>\n",
       "      <th>g (y)</th>\n",
       "    </tr>\n",
       "  </thead>\n",
       "  <tbody>\n",
       "    <tr>\n",
       "      <th>0</th>\n",
       "      <td>0.1</td>\n",
       "      <td>1.000000</td>\n",
       "      <td>10.4</td>\n",
       "      <td>1.000400</td>\n",
       "    </tr>\n",
       "    <tr>\n",
       "      <th>1</th>\n",
       "      <td>0.2</td>\n",
       "      <td>10.235310</td>\n",
       "      <td>10.8</td>\n",
       "      <td>1.004103</td>\n",
       "    </tr>\n",
       "    <tr>\n",
       "      <th>2</th>\n",
       "      <td>0.3</td>\n",
       "      <td>104.761575</td>\n",
       "      <td>11.2</td>\n",
       "      <td>1.042795</td>\n",
       "    </tr>\n",
       "    <tr>\n",
       "      <th>3</th>\n",
       "      <td>0.4</td>\n",
       "      <td>1072.267222</td>\n",
       "      <td>11.6</td>\n",
       "      <td>1.535578</td>\n",
       "    </tr>\n",
       "    <tr>\n",
       "      <th>4</th>\n",
       "      <td>0.5</td>\n",
       "      <td>10974.987655</td>\n",
       "      <td>12.0</td>\n",
       "      <td>80.640021</td>\n",
       "    </tr>\n",
       "  </tbody>\n",
       "</table>\n",
       "</div>"
      ],
      "text/plain": [
       "     x             y  f (x)      g (y)\n",
       "0  0.1      1.000000   10.4   1.000400\n",
       "1  0.2     10.235310   10.8   1.004103\n",
       "2  0.3    104.761575   11.2   1.042795\n",
       "3  0.4   1072.267222   11.6   1.535578\n",
       "4  0.5  10974.987655   12.0  80.640021"
      ]
     },
     "execution_count": 16,
     "metadata": {},
     "output_type": "execute_result"
    }
   ],
   "source": [
    "df_arrays.head()"
   ]
  },
  {
   "cell_type": "markdown",
   "metadata": {},
   "source": [
    "If you want to see just a specific number of rows, give it as the argument of `head`:"
   ]
  },
  {
   "cell_type": "code",
   "execution_count": 17,
   "metadata": {},
   "outputs": [
    {
     "data": {
      "text/html": [
       "<div>\n",
       "<style scoped>\n",
       "    .dataframe tbody tr th:only-of-type {\n",
       "        vertical-align: middle;\n",
       "    }\n",
       "\n",
       "    .dataframe tbody tr th {\n",
       "        vertical-align: top;\n",
       "    }\n",
       "\n",
       "    .dataframe thead th {\n",
       "        text-align: right;\n",
       "    }\n",
       "</style>\n",
       "<table border=\"1\" class=\"dataframe\">\n",
       "  <thead>\n",
       "    <tr style=\"text-align: right;\">\n",
       "      <th></th>\n",
       "      <th>x</th>\n",
       "      <th>y</th>\n",
       "      <th>f (x)</th>\n",
       "      <th>g (y)</th>\n",
       "    </tr>\n",
       "  </thead>\n",
       "  <tbody>\n",
       "    <tr>\n",
       "      <th>0</th>\n",
       "      <td>0.1</td>\n",
       "      <td>1.000000</td>\n",
       "      <td>10.4</td>\n",
       "      <td>1.000400</td>\n",
       "    </tr>\n",
       "    <tr>\n",
       "      <th>1</th>\n",
       "      <td>0.2</td>\n",
       "      <td>10.235310</td>\n",
       "      <td>10.8</td>\n",
       "      <td>1.004103</td>\n",
       "    </tr>\n",
       "    <tr>\n",
       "      <th>2</th>\n",
       "      <td>0.3</td>\n",
       "      <td>104.761575</td>\n",
       "      <td>11.2</td>\n",
       "      <td>1.042795</td>\n",
       "    </tr>\n",
       "  </tbody>\n",
       "</table>\n",
       "</div>"
      ],
      "text/plain": [
       "     x           y  f (x)     g (y)\n",
       "0  0.1    1.000000   10.4  1.000400\n",
       "1  0.2   10.235310   10.8  1.004103\n",
       "2  0.3  104.761575   11.2  1.042795"
      ]
     },
     "execution_count": 17,
     "metadata": {},
     "output_type": "execute_result"
    }
   ],
   "source": [
    "df_arrays.head(3)"
   ]
  },
  {
   "cell_type": "markdown",
   "metadata": {},
   "source": [
    "For instance, if you are interested in the bottom of the data frame, use the method `tail`:"
   ]
  },
  {
   "cell_type": "code",
   "execution_count": 18,
   "metadata": {
    "scrolled": true
   },
   "outputs": [
    {
     "data": {
      "text/html": [
       "<div>\n",
       "<style scoped>\n",
       "    .dataframe tbody tr th:only-of-type {\n",
       "        vertical-align: middle;\n",
       "    }\n",
       "\n",
       "    .dataframe tbody tr th {\n",
       "        vertical-align: top;\n",
       "    }\n",
       "\n",
       "    .dataframe thead th {\n",
       "        text-align: right;\n",
       "    }\n",
       "</style>\n",
       "<table border=\"1\" class=\"dataframe\">\n",
       "  <thead>\n",
       "    <tr style=\"text-align: right;\">\n",
       "      <th></th>\n",
       "      <th>x</th>\n",
       "      <th>y</th>\n",
       "      <th>f (x)</th>\n",
       "      <th>g (y)</th>\n",
       "    </tr>\n",
       "  </thead>\n",
       "  <tbody>\n",
       "    <tr>\n",
       "      <th>95</th>\n",
       "      <td>9.6</td>\n",
       "      <td>9.111628e+95</td>\n",
       "      <td>48.4</td>\n",
       "      <td>inf</td>\n",
       "    </tr>\n",
       "    <tr>\n",
       "      <th>96</th>\n",
       "      <td>9.7</td>\n",
       "      <td>9.326033e+96</td>\n",
       "      <td>48.8</td>\n",
       "      <td>inf</td>\n",
       "    </tr>\n",
       "    <tr>\n",
       "      <th>97</th>\n",
       "      <td>9.8</td>\n",
       "      <td>9.545485e+97</td>\n",
       "      <td>49.2</td>\n",
       "      <td>inf</td>\n",
       "    </tr>\n",
       "    <tr>\n",
       "      <th>98</th>\n",
       "      <td>9.9</td>\n",
       "      <td>9.770100e+98</td>\n",
       "      <td>49.6</td>\n",
       "      <td>inf</td>\n",
       "    </tr>\n",
       "    <tr>\n",
       "      <th>99</th>\n",
       "      <td>10.0</td>\n",
       "      <td>1.000000e+100</td>\n",
       "      <td>50.0</td>\n",
       "      <td>inf</td>\n",
       "    </tr>\n",
       "  </tbody>\n",
       "</table>\n",
       "</div>"
      ],
      "text/plain": [
       "       x              y  f (x)  g (y)\n",
       "95   9.6   9.111628e+95   48.4    inf\n",
       "96   9.7   9.326033e+96   48.8    inf\n",
       "97   9.8   9.545485e+97   49.2    inf\n",
       "98   9.9   9.770100e+98   49.6    inf\n",
       "99  10.0  1.000000e+100   50.0    inf"
      ]
     },
     "execution_count": 18,
     "metadata": {},
     "output_type": "execute_result"
    }
   ],
   "source": [
    "df_arrays.tail()"
   ]
  },
  {
   "cell_type": "markdown",
   "metadata": {},
   "source": [
    "Note that there is $\\infty$ values in this data set (those previous mentioned in the warning message). We are handle them in a minutes."
   ]
  },
  {
   "cell_type": "markdown",
   "metadata": {},
   "source": [
    "## 3. Saving data frame to a csv"
   ]
  },
  {
   "cell_type": "markdown",
   "metadata": {},
   "source": [
    "Using the method `to_csv` you can save your data as a readable `csv` file, giving the specific path and name, followed by `.csv` extension:"
   ]
  },
  {
   "cell_type": "code",
   "execution_count": 19,
   "metadata": {},
   "outputs": [],
   "source": [
    "df_arrays.to_csv('df_arrays.csv', index = False)"
   ]
  },
  {
   "cell_type": "markdown",
   "metadata": {},
   "source": [
    "The option `index = False` was used to save the data set without the index column."
   ]
  },
  {
   "cell_type": "markdown",
   "metadata": {},
   "source": [
    "## 4. Importing and visualizing data frames"
   ]
  },
  {
   "cell_type": "markdown",
   "metadata": {},
   "source": [
    "### 4.1 From file\n",
    "\n",
    "You just need to specify the path and file name (of course with its extension):"
   ]
  },
  {
   "cell_type": "code",
   "execution_count": 20,
   "metadata": {},
   "outputs": [],
   "source": [
    "df_funcs = pd.read_csv('df_arrays.csv')"
   ]
  },
  {
   "cell_type": "code",
   "execution_count": 21,
   "metadata": {},
   "outputs": [
    {
     "data": {
      "text/html": [
       "<div>\n",
       "<style scoped>\n",
       "    .dataframe tbody tr th:only-of-type {\n",
       "        vertical-align: middle;\n",
       "    }\n",
       "\n",
       "    .dataframe tbody tr th {\n",
       "        vertical-align: top;\n",
       "    }\n",
       "\n",
       "    .dataframe thead th {\n",
       "        text-align: right;\n",
       "    }\n",
       "</style>\n",
       "<table border=\"1\" class=\"dataframe\">\n",
       "  <thead>\n",
       "    <tr style=\"text-align: right;\">\n",
       "      <th></th>\n",
       "      <th>x</th>\n",
       "      <th>y</th>\n",
       "      <th>f (x)</th>\n",
       "      <th>g (y)</th>\n",
       "    </tr>\n",
       "  </thead>\n",
       "  <tbody>\n",
       "    <tr>\n",
       "      <th>0</th>\n",
       "      <td>0.1</td>\n",
       "      <td>1.000000</td>\n",
       "      <td>10.4</td>\n",
       "      <td>1.000400</td>\n",
       "    </tr>\n",
       "    <tr>\n",
       "      <th>1</th>\n",
       "      <td>0.2</td>\n",
       "      <td>10.235310</td>\n",
       "      <td>10.8</td>\n",
       "      <td>1.004103</td>\n",
       "    </tr>\n",
       "    <tr>\n",
       "      <th>2</th>\n",
       "      <td>0.3</td>\n",
       "      <td>104.761575</td>\n",
       "      <td>11.2</td>\n",
       "      <td>1.042795</td>\n",
       "    </tr>\n",
       "    <tr>\n",
       "      <th>3</th>\n",
       "      <td>0.4</td>\n",
       "      <td>1072.267222</td>\n",
       "      <td>11.6</td>\n",
       "      <td>1.535578</td>\n",
       "    </tr>\n",
       "    <tr>\n",
       "      <th>4</th>\n",
       "      <td>0.5</td>\n",
       "      <td>10974.987655</td>\n",
       "      <td>12.0</td>\n",
       "      <td>80.640021</td>\n",
       "    </tr>\n",
       "  </tbody>\n",
       "</table>\n",
       "</div>"
      ],
      "text/plain": [
       "     x             y  f (x)      g (y)\n",
       "0  0.1      1.000000   10.4   1.000400\n",
       "1  0.2     10.235310   10.8   1.004103\n",
       "2  0.3    104.761575   11.2   1.042795\n",
       "3  0.4   1072.267222   11.6   1.535578\n",
       "4  0.5  10974.987655   12.0  80.640021"
      ]
     },
     "execution_count": 21,
     "metadata": {},
     "output_type": "execute_result"
    }
   ],
   "source": [
    "df_funcs.head()"
   ]
  },
  {
   "cell_type": "markdown",
   "metadata": {},
   "source": [
    "### 4.2 From a link"
   ]
  },
  {
   "cell_type": "markdown",
   "metadata": {},
   "source": [
    "Here we are calling for the [Wine Quality Data Set](http://archive.ics.uci.edu/ml/datasets/Wine+Quality) just calling the link:"
   ]
  },
  {
   "cell_type": "code",
   "execution_count": 22,
   "metadata": {},
   "outputs": [],
   "source": [
    "path = 'http://archive.ics.uci.edu/ml/machine-learning-databases/wine-quality/winequality-red.csv'"
   ]
  },
  {
   "cell_type": "markdown",
   "metadata": {},
   "source": [
    "Creating the data frame using the method `read_csv`:"
   ]
  },
  {
   "cell_type": "code",
   "execution_count": 23,
   "metadata": {},
   "outputs": [],
   "source": [
    "df_wine = pd.read_csv(path, sep=';')"
   ]
  },
  {
   "cell_type": "code",
   "execution_count": 24,
   "metadata": {},
   "outputs": [
    {
     "data": {
      "text/html": [
       "<div>\n",
       "<style scoped>\n",
       "    .dataframe tbody tr th:only-of-type {\n",
       "        vertical-align: middle;\n",
       "    }\n",
       "\n",
       "    .dataframe tbody tr th {\n",
       "        vertical-align: top;\n",
       "    }\n",
       "\n",
       "    .dataframe thead th {\n",
       "        text-align: right;\n",
       "    }\n",
       "</style>\n",
       "<table border=\"1\" class=\"dataframe\">\n",
       "  <thead>\n",
       "    <tr style=\"text-align: right;\">\n",
       "      <th></th>\n",
       "      <th>fixed acidity</th>\n",
       "      <th>volatile acidity</th>\n",
       "      <th>citric acid</th>\n",
       "      <th>residual sugar</th>\n",
       "      <th>chlorides</th>\n",
       "      <th>free sulfur dioxide</th>\n",
       "      <th>total sulfur dioxide</th>\n",
       "      <th>density</th>\n",
       "      <th>pH</th>\n",
       "      <th>sulphates</th>\n",
       "      <th>alcohol</th>\n",
       "      <th>quality</th>\n",
       "    </tr>\n",
       "  </thead>\n",
       "  <tbody>\n",
       "    <tr>\n",
       "      <th>0</th>\n",
       "      <td>7.4</td>\n",
       "      <td>0.70</td>\n",
       "      <td>0.00</td>\n",
       "      <td>1.9</td>\n",
       "      <td>0.076</td>\n",
       "      <td>11.0</td>\n",
       "      <td>34.0</td>\n",
       "      <td>0.9978</td>\n",
       "      <td>3.51</td>\n",
       "      <td>0.56</td>\n",
       "      <td>9.4</td>\n",
       "      <td>5</td>\n",
       "    </tr>\n",
       "    <tr>\n",
       "      <th>1</th>\n",
       "      <td>7.8</td>\n",
       "      <td>0.88</td>\n",
       "      <td>0.00</td>\n",
       "      <td>2.6</td>\n",
       "      <td>0.098</td>\n",
       "      <td>25.0</td>\n",
       "      <td>67.0</td>\n",
       "      <td>0.9968</td>\n",
       "      <td>3.20</td>\n",
       "      <td>0.68</td>\n",
       "      <td>9.8</td>\n",
       "      <td>5</td>\n",
       "    </tr>\n",
       "    <tr>\n",
       "      <th>2</th>\n",
       "      <td>7.8</td>\n",
       "      <td>0.76</td>\n",
       "      <td>0.04</td>\n",
       "      <td>2.3</td>\n",
       "      <td>0.092</td>\n",
       "      <td>15.0</td>\n",
       "      <td>54.0</td>\n",
       "      <td>0.9970</td>\n",
       "      <td>3.26</td>\n",
       "      <td>0.65</td>\n",
       "      <td>9.8</td>\n",
       "      <td>5</td>\n",
       "    </tr>\n",
       "    <tr>\n",
       "      <th>3</th>\n",
       "      <td>11.2</td>\n",
       "      <td>0.28</td>\n",
       "      <td>0.56</td>\n",
       "      <td>1.9</td>\n",
       "      <td>0.075</td>\n",
       "      <td>17.0</td>\n",
       "      <td>60.0</td>\n",
       "      <td>0.9980</td>\n",
       "      <td>3.16</td>\n",
       "      <td>0.58</td>\n",
       "      <td>9.8</td>\n",
       "      <td>6</td>\n",
       "    </tr>\n",
       "    <tr>\n",
       "      <th>4</th>\n",
       "      <td>7.4</td>\n",
       "      <td>0.70</td>\n",
       "      <td>0.00</td>\n",
       "      <td>1.9</td>\n",
       "      <td>0.076</td>\n",
       "      <td>11.0</td>\n",
       "      <td>34.0</td>\n",
       "      <td>0.9978</td>\n",
       "      <td>3.51</td>\n",
       "      <td>0.56</td>\n",
       "      <td>9.4</td>\n",
       "      <td>5</td>\n",
       "    </tr>\n",
       "  </tbody>\n",
       "</table>\n",
       "</div>"
      ],
      "text/plain": [
       "   fixed acidity  volatile acidity  citric acid  residual sugar  chlorides  \\\n",
       "0            7.4              0.70         0.00             1.9      0.076   \n",
       "1            7.8              0.88         0.00             2.6      0.098   \n",
       "2            7.8              0.76         0.04             2.3      0.092   \n",
       "3           11.2              0.28         0.56             1.9      0.075   \n",
       "4            7.4              0.70         0.00             1.9      0.076   \n",
       "\n",
       "   free sulfur dioxide  total sulfur dioxide  density    pH  sulphates  \\\n",
       "0                 11.0                  34.0   0.9978  3.51       0.56   \n",
       "1                 25.0                  67.0   0.9968  3.20       0.68   \n",
       "2                 15.0                  54.0   0.9970  3.26       0.65   \n",
       "3                 17.0                  60.0   0.9980  3.16       0.58   \n",
       "4                 11.0                  34.0   0.9978  3.51       0.56   \n",
       "\n",
       "   alcohol  quality  \n",
       "0      9.4        5  \n",
       "1      9.8        5  \n",
       "2      9.8        5  \n",
       "3      9.8        6  \n",
       "4      9.4        5  "
      ]
     },
     "execution_count": 24,
     "metadata": {},
     "output_type": "execute_result"
    }
   ],
   "source": [
    "df_wine.head()"
   ]
  },
  {
   "cell_type": "markdown",
   "metadata": {},
   "source": [
    "See that this `csv` file are not comma separated, it has semicolon instead and need to be 'fixed' before starting working with it. Then, I have used `sep = ';'` as option into `read_csv`."
   ]
  },
  {
   "cell_type": "markdown",
   "metadata": {},
   "source": [
    "### 4.3 From `scikitlearn.datasets`"
   ]
  },
  {
   "cell_type": "markdown",
   "metadata": {},
   "source": [
    "Python's library [`scikit learn`](https://scikit-learn.org/stable/modules/classes.html#module-sklearn.datasets) has an amazing data set library to Data Science and Machine Learnin practices. But it does not come directly as `csv` format. Then, we need to convet it as a simple task. To use it you need to lad the libary:"
   ]
  },
  {
   "cell_type": "code",
   "execution_count": 25,
   "metadata": {},
   "outputs": [],
   "source": [
    "from sklearn.datasets import load_boston"
   ]
  },
  {
   "cell_type": "markdown",
   "metadata": {},
   "source": [
    "Loading data, that is in `Bunch` format:"
   ]
  },
  {
   "cell_type": "code",
   "execution_count": 26,
   "metadata": {},
   "outputs": [
    {
     "data": {
      "text/plain": [
       "sklearn.utils.Bunch"
      ]
     },
     "execution_count": 26,
     "metadata": {},
     "output_type": "execute_result"
    }
   ],
   "source": [
    "boston = load_boston()\n",
    "type(boston)"
   ]
  },
  {
   "cell_type": "markdown",
   "metadata": {},
   "source": [
    "We have a description of this dataset using `DESCR`:"
   ]
  },
  {
   "cell_type": "code",
   "execution_count": 27,
   "metadata": {
    "scrolled": true
   },
   "outputs": [
    {
     "name": "stdout",
     "output_type": "stream",
     "text": [
      ".. _boston_dataset:\n",
      "\n",
      "Boston house prices dataset\n",
      "---------------------------\n",
      "\n",
      "**Data Set Characteristics:**  \n",
      "\n",
      "    :Number of Instances: 506 \n",
      "\n",
      "    :Number of Attributes: 13 numeric/categorical predictive. Median Value (attribute 14) is usually the target.\n",
      "\n",
      "    :Attribute Information (in order):\n",
      "        - CRIM     per capita crime rate by town\n",
      "        - ZN       proportion of residential land zoned for lots over 25,000 sq.ft.\n",
      "        - INDUS    proportion of non-retail business acres per town\n",
      "        - CHAS     Charles River dummy variable (= 1 if tract bounds river; 0 otherwise)\n",
      "        - NOX      nitric oxides concentration (parts per 10 million)\n",
      "        - RM       average number of rooms per dwelling\n",
      "        - AGE      proportion of owner-occupied units built prior to 1940\n",
      "        - DIS      weighted distances to five Boston employment centres\n",
      "        - RAD      index of accessibility to radial highways\n",
      "        - TAX      full-value property-tax rate per $10,000\n",
      "        - PTRATIO  pupil-teacher ratio by town\n",
      "        - B        1000(Bk - 0.63)^2 where Bk is the proportion of blacks by town\n",
      "        - LSTAT    % lower status of the population\n",
      "        - MEDV     Median value of owner-occupied homes in $1000's\n",
      "\n",
      "    :Missing Attribute Values: None\n",
      "\n",
      "    :Creator: Harrison, D. and Rubinfeld, D.L.\n",
      "\n",
      "This is a copy of UCI ML housing dataset.\n",
      "https://archive.ics.uci.edu/ml/machine-learning-databases/housing/\n",
      "\n",
      "\n",
      "This dataset was taken from the StatLib library which is maintained at Carnegie Mellon University.\n",
      "\n",
      "The Boston house-price data of Harrison, D. and Rubinfeld, D.L. 'Hedonic\n",
      "prices and the demand for clean air', J. Environ. Economics & Management,\n",
      "vol.5, 81-102, 1978.   Used in Belsley, Kuh & Welsch, 'Regression diagnostics\n",
      "...', Wiley, 1980.   N.B. Various transformations are used in the table on\n",
      "pages 244-261 of the latter.\n",
      "\n",
      "The Boston house-price data has been used in many machine learning papers that address regression\n",
      "problems.   \n",
      "     \n",
      ".. topic:: References\n",
      "\n",
      "   - Belsley, Kuh & Welsch, 'Regression diagnostics: Identifying Influential Data and Sources of Collinearity', Wiley, 1980. 244-261.\n",
      "   - Quinlan,R. (1993). Combining Instance-Based and Model-Based Learning. In Proceedings on the Tenth International Conference of Machine Learning, 236-243, University of Massachusetts, Amherst. Morgan Kaufmann.\n",
      "\n"
     ]
    }
   ],
   "source": [
    "print(boston.DESCR)"
   ]
  },
  {
   "cell_type": "markdown",
   "metadata": {},
   "source": [
    "Using `feature names` method we can extract exactly the feature names:"
   ]
  },
  {
   "cell_type": "code",
   "execution_count": 28,
   "metadata": {},
   "outputs": [
    {
     "data": {
      "text/plain": [
       "array(['CRIM', 'ZN', 'INDUS', 'CHAS', 'NOX', 'RM', 'AGE', 'DIS', 'RAD',\n",
       "       'TAX', 'PTRATIO', 'B', 'LSTAT'], dtype='<U7')"
      ]
     },
     "execution_count": 28,
     "metadata": {},
     "output_type": "execute_result"
    }
   ],
   "source": [
    "features = boston.feature_names\n",
    "features"
   ]
  },
  {
   "cell_type": "markdown",
   "metadata": {},
   "source": [
    "Using `data` property we have all data as an `numpy array`:"
   ]
  },
  {
   "cell_type": "code",
   "execution_count": 29,
   "metadata": {},
   "outputs": [
    {
     "data": {
      "text/plain": [
       "(506, 13)"
      ]
     },
     "execution_count": 29,
     "metadata": {},
     "output_type": "execute_result"
    }
   ],
   "source": [
    "boston_data = boston.data\n",
    "boston_data.shape"
   ]
  },
  {
   "cell_type": "markdown",
   "metadata": {},
   "source": [
    "Then, we can convert to a data frame doing:"
   ]
  },
  {
   "cell_type": "code",
   "execution_count": 30,
   "metadata": {},
   "outputs": [],
   "source": [
    "df_boston = pd.DataFrame(boston_data, columns = features)"
   ]
  },
  {
   "cell_type": "markdown",
   "metadata": {},
   "source": [
    "And we got:"
   ]
  },
  {
   "cell_type": "code",
   "execution_count": 31,
   "metadata": {},
   "outputs": [
    {
     "data": {
      "text/html": [
       "<div>\n",
       "<style scoped>\n",
       "    .dataframe tbody tr th:only-of-type {\n",
       "        vertical-align: middle;\n",
       "    }\n",
       "\n",
       "    .dataframe tbody tr th {\n",
       "        vertical-align: top;\n",
       "    }\n",
       "\n",
       "    .dataframe thead th {\n",
       "        text-align: right;\n",
       "    }\n",
       "</style>\n",
       "<table border=\"1\" class=\"dataframe\">\n",
       "  <thead>\n",
       "    <tr style=\"text-align: right;\">\n",
       "      <th></th>\n",
       "      <th>CRIM</th>\n",
       "      <th>ZN</th>\n",
       "      <th>INDUS</th>\n",
       "      <th>CHAS</th>\n",
       "      <th>NOX</th>\n",
       "      <th>RM</th>\n",
       "      <th>AGE</th>\n",
       "      <th>DIS</th>\n",
       "      <th>RAD</th>\n",
       "      <th>TAX</th>\n",
       "      <th>PTRATIO</th>\n",
       "      <th>B</th>\n",
       "      <th>LSTAT</th>\n",
       "    </tr>\n",
       "  </thead>\n",
       "  <tbody>\n",
       "    <tr>\n",
       "      <th>0</th>\n",
       "      <td>0.00632</td>\n",
       "      <td>18.0</td>\n",
       "      <td>2.31</td>\n",
       "      <td>0.0</td>\n",
       "      <td>0.538</td>\n",
       "      <td>6.575</td>\n",
       "      <td>65.2</td>\n",
       "      <td>4.0900</td>\n",
       "      <td>1.0</td>\n",
       "      <td>296.0</td>\n",
       "      <td>15.3</td>\n",
       "      <td>396.90</td>\n",
       "      <td>4.98</td>\n",
       "    </tr>\n",
       "    <tr>\n",
       "      <th>1</th>\n",
       "      <td>0.02731</td>\n",
       "      <td>0.0</td>\n",
       "      <td>7.07</td>\n",
       "      <td>0.0</td>\n",
       "      <td>0.469</td>\n",
       "      <td>6.421</td>\n",
       "      <td>78.9</td>\n",
       "      <td>4.9671</td>\n",
       "      <td>2.0</td>\n",
       "      <td>242.0</td>\n",
       "      <td>17.8</td>\n",
       "      <td>396.90</td>\n",
       "      <td>9.14</td>\n",
       "    </tr>\n",
       "    <tr>\n",
       "      <th>2</th>\n",
       "      <td>0.02729</td>\n",
       "      <td>0.0</td>\n",
       "      <td>7.07</td>\n",
       "      <td>0.0</td>\n",
       "      <td>0.469</td>\n",
       "      <td>7.185</td>\n",
       "      <td>61.1</td>\n",
       "      <td>4.9671</td>\n",
       "      <td>2.0</td>\n",
       "      <td>242.0</td>\n",
       "      <td>17.8</td>\n",
       "      <td>392.83</td>\n",
       "      <td>4.03</td>\n",
       "    </tr>\n",
       "    <tr>\n",
       "      <th>3</th>\n",
       "      <td>0.03237</td>\n",
       "      <td>0.0</td>\n",
       "      <td>2.18</td>\n",
       "      <td>0.0</td>\n",
       "      <td>0.458</td>\n",
       "      <td>6.998</td>\n",
       "      <td>45.8</td>\n",
       "      <td>6.0622</td>\n",
       "      <td>3.0</td>\n",
       "      <td>222.0</td>\n",
       "      <td>18.7</td>\n",
       "      <td>394.63</td>\n",
       "      <td>2.94</td>\n",
       "    </tr>\n",
       "    <tr>\n",
       "      <th>4</th>\n",
       "      <td>0.06905</td>\n",
       "      <td>0.0</td>\n",
       "      <td>2.18</td>\n",
       "      <td>0.0</td>\n",
       "      <td>0.458</td>\n",
       "      <td>7.147</td>\n",
       "      <td>54.2</td>\n",
       "      <td>6.0622</td>\n",
       "      <td>3.0</td>\n",
       "      <td>222.0</td>\n",
       "      <td>18.7</td>\n",
       "      <td>396.90</td>\n",
       "      <td>5.33</td>\n",
       "    </tr>\n",
       "  </tbody>\n",
       "</table>\n",
       "</div>"
      ],
      "text/plain": [
       "      CRIM    ZN  INDUS  CHAS    NOX     RM   AGE     DIS  RAD    TAX  \\\n",
       "0  0.00632  18.0   2.31   0.0  0.538  6.575  65.2  4.0900  1.0  296.0   \n",
       "1  0.02731   0.0   7.07   0.0  0.469  6.421  78.9  4.9671  2.0  242.0   \n",
       "2  0.02729   0.0   7.07   0.0  0.469  7.185  61.1  4.9671  2.0  242.0   \n",
       "3  0.03237   0.0   2.18   0.0  0.458  6.998  45.8  6.0622  3.0  222.0   \n",
       "4  0.06905   0.0   2.18   0.0  0.458  7.147  54.2  6.0622  3.0  222.0   \n",
       "\n",
       "   PTRATIO       B  LSTAT  \n",
       "0     15.3  396.90   4.98  \n",
       "1     17.8  396.90   9.14  \n",
       "2     17.8  392.83   4.03  \n",
       "3     18.7  394.63   2.94  \n",
       "4     18.7  396.90   5.33  "
      ]
     },
     "execution_count": 31,
     "metadata": {},
     "output_type": "execute_result"
    }
   ],
   "source": [
    "df_boston.head()"
   ]
  },
  {
   "cell_type": "markdown",
   "metadata": {},
   "source": [
    "You can know more about your data just using `.info()` method:"
   ]
  },
  {
   "cell_type": "code",
   "execution_count": 32,
   "metadata": {},
   "outputs": [
    {
     "name": "stdout",
     "output_type": "stream",
     "text": [
      "<class 'pandas.core.frame.DataFrame'>\n",
      "RangeIndex: 506 entries, 0 to 505\n",
      "Data columns (total 13 columns):\n",
      " #   Column   Non-Null Count  Dtype  \n",
      "---  ------   --------------  -----  \n",
      " 0   CRIM     506 non-null    float64\n",
      " 1   ZN       506 non-null    float64\n",
      " 2   INDUS    506 non-null    float64\n",
      " 3   CHAS     506 non-null    float64\n",
      " 4   NOX      506 non-null    float64\n",
      " 5   RM       506 non-null    float64\n",
      " 6   AGE      506 non-null    float64\n",
      " 7   DIS      506 non-null    float64\n",
      " 8   RAD      506 non-null    float64\n",
      " 9   TAX      506 non-null    float64\n",
      " 10  PTRATIO  506 non-null    float64\n",
      " 11  B        506 non-null    float64\n",
      " 12  LSTAT    506 non-null    float64\n",
      "dtypes: float64(13)\n",
      "memory usage: 51.5 KB\n"
     ]
    }
   ],
   "source": [
    "df_boston.info()"
   ]
  },
  {
   "cell_type": "markdown",
   "metadata": {},
   "source": [
    "As you can see, the function `.info()` provides essential details about your dataset, such as the its type, the number of rows and columns, the number of non-null values, what type of data is in each column, and how much memory your data frame is using."
   ]
  },
  {
   "cell_type": "markdown",
   "metadata": {},
   "source": [
    "## 5. Selecting and Replacing Data"
   ]
  },
  {
   "cell_type": "markdown",
   "metadata": {},
   "source": [
    "### 5.1 Missing values"
   ]
  },
  {
   "cell_type": "markdown",
   "metadata": {},
   "source": [
    "In data science we call `NaN` values as **missing values**. Sometimes, they are just $\\pm \\infty$. Then, we can replace them by `NaN` doing:"
   ]
  },
  {
   "cell_type": "code",
   "execution_count": 33,
   "metadata": {},
   "outputs": [],
   "source": [
    "df_funcs = df_funcs.replace([np.inf, -np.inf], np.nan)"
   ]
  },
  {
   "cell_type": "markdown",
   "metadata": {},
   "source": [
    "We can check if there is `NaN` values using `.isnull()` function:"
   ]
  },
  {
   "cell_type": "code",
   "execution_count": 34,
   "metadata": {
    "scrolled": true
   },
   "outputs": [
    {
     "data": {
      "text/html": [
       "<div>\n",
       "<style scoped>\n",
       "    .dataframe tbody tr th:only-of-type {\n",
       "        vertical-align: middle;\n",
       "    }\n",
       "\n",
       "    .dataframe tbody tr th {\n",
       "        vertical-align: top;\n",
       "    }\n",
       "\n",
       "    .dataframe thead th {\n",
       "        text-align: right;\n",
       "    }\n",
       "</style>\n",
       "<table border=\"1\" class=\"dataframe\">\n",
       "  <thead>\n",
       "    <tr style=\"text-align: right;\">\n",
       "      <th></th>\n",
       "      <th>x</th>\n",
       "      <th>y</th>\n",
       "      <th>f (x)</th>\n",
       "      <th>g (y)</th>\n",
       "    </tr>\n",
       "  </thead>\n",
       "  <tbody>\n",
       "    <tr>\n",
       "      <th>0</th>\n",
       "      <td>False</td>\n",
       "      <td>False</td>\n",
       "      <td>False</td>\n",
       "      <td>False</td>\n",
       "    </tr>\n",
       "    <tr>\n",
       "      <th>1</th>\n",
       "      <td>False</td>\n",
       "      <td>False</td>\n",
       "      <td>False</td>\n",
       "      <td>False</td>\n",
       "    </tr>\n",
       "    <tr>\n",
       "      <th>2</th>\n",
       "      <td>False</td>\n",
       "      <td>False</td>\n",
       "      <td>False</td>\n",
       "      <td>False</td>\n",
       "    </tr>\n",
       "    <tr>\n",
       "      <th>3</th>\n",
       "      <td>False</td>\n",
       "      <td>False</td>\n",
       "      <td>False</td>\n",
       "      <td>False</td>\n",
       "    </tr>\n",
       "    <tr>\n",
       "      <th>4</th>\n",
       "      <td>False</td>\n",
       "      <td>False</td>\n",
       "      <td>False</td>\n",
       "      <td>False</td>\n",
       "    </tr>\n",
       "    <tr>\n",
       "      <th>...</th>\n",
       "      <td>...</td>\n",
       "      <td>...</td>\n",
       "      <td>...</td>\n",
       "      <td>...</td>\n",
       "    </tr>\n",
       "    <tr>\n",
       "      <th>95</th>\n",
       "      <td>False</td>\n",
       "      <td>False</td>\n",
       "      <td>False</td>\n",
       "      <td>True</td>\n",
       "    </tr>\n",
       "    <tr>\n",
       "      <th>96</th>\n",
       "      <td>False</td>\n",
       "      <td>False</td>\n",
       "      <td>False</td>\n",
       "      <td>True</td>\n",
       "    </tr>\n",
       "    <tr>\n",
       "      <th>97</th>\n",
       "      <td>False</td>\n",
       "      <td>False</td>\n",
       "      <td>False</td>\n",
       "      <td>True</td>\n",
       "    </tr>\n",
       "    <tr>\n",
       "      <th>98</th>\n",
       "      <td>False</td>\n",
       "      <td>False</td>\n",
       "      <td>False</td>\n",
       "      <td>True</td>\n",
       "    </tr>\n",
       "    <tr>\n",
       "      <th>99</th>\n",
       "      <td>False</td>\n",
       "      <td>False</td>\n",
       "      <td>False</td>\n",
       "      <td>True</td>\n",
       "    </tr>\n",
       "  </tbody>\n",
       "</table>\n",
       "<p>100 rows × 4 columns</p>\n",
       "</div>"
      ],
      "text/plain": [
       "        x      y  f (x)  g (y)\n",
       "0   False  False  False  False\n",
       "1   False  False  False  False\n",
       "2   False  False  False  False\n",
       "3   False  False  False  False\n",
       "4   False  False  False  False\n",
       "..    ...    ...    ...    ...\n",
       "95  False  False  False   True\n",
       "96  False  False  False   True\n",
       "97  False  False  False   True\n",
       "98  False  False  False   True\n",
       "99  False  False  False   True\n",
       "\n",
       "[100 rows x 4 columns]"
      ]
     },
     "execution_count": 34,
     "metadata": {},
     "output_type": "execute_result"
    }
   ],
   "source": [
    "df_funcs.isnull()"
   ]
  },
  {
   "cell_type": "markdown",
   "metadata": {},
   "source": [
    "This returns a boolean value, indicating wheter the value that is passed into the argument is, in fact, missing data."
   ]
  },
  {
   "cell_type": "markdown",
   "metadata": {},
   "source": [
    "Finally, we can replace those values using the function `fillna` and choosing, for example, $0$ to replace its values."
   ]
  },
  {
   "cell_type": "code",
   "execution_count": 35,
   "metadata": {},
   "outputs": [
    {
     "data": {
      "text/html": [
       "<div>\n",
       "<style scoped>\n",
       "    .dataframe tbody tr th:only-of-type {\n",
       "        vertical-align: middle;\n",
       "    }\n",
       "\n",
       "    .dataframe tbody tr th {\n",
       "        vertical-align: top;\n",
       "    }\n",
       "\n",
       "    .dataframe thead th {\n",
       "        text-align: right;\n",
       "    }\n",
       "</style>\n",
       "<table border=\"1\" class=\"dataframe\">\n",
       "  <thead>\n",
       "    <tr style=\"text-align: right;\">\n",
       "      <th></th>\n",
       "      <th>x</th>\n",
       "      <th>y</th>\n",
       "      <th>f (x)</th>\n",
       "      <th>g (y)</th>\n",
       "    </tr>\n",
       "  </thead>\n",
       "  <tbody>\n",
       "    <tr>\n",
       "      <th>95</th>\n",
       "      <td>9.6</td>\n",
       "      <td>9.111628e+95</td>\n",
       "      <td>48.4</td>\n",
       "      <td>0.0</td>\n",
       "    </tr>\n",
       "    <tr>\n",
       "      <th>96</th>\n",
       "      <td>9.7</td>\n",
       "      <td>9.326033e+96</td>\n",
       "      <td>48.8</td>\n",
       "      <td>0.0</td>\n",
       "    </tr>\n",
       "    <tr>\n",
       "      <th>97</th>\n",
       "      <td>9.8</td>\n",
       "      <td>9.545485e+97</td>\n",
       "      <td>49.2</td>\n",
       "      <td>0.0</td>\n",
       "    </tr>\n",
       "    <tr>\n",
       "      <th>98</th>\n",
       "      <td>9.9</td>\n",
       "      <td>9.770100e+98</td>\n",
       "      <td>49.6</td>\n",
       "      <td>0.0</td>\n",
       "    </tr>\n",
       "    <tr>\n",
       "      <th>99</th>\n",
       "      <td>10.0</td>\n",
       "      <td>1.000000e+100</td>\n",
       "      <td>50.0</td>\n",
       "      <td>0.0</td>\n",
       "    </tr>\n",
       "  </tbody>\n",
       "</table>\n",
       "</div>"
      ],
      "text/plain": [
       "       x              y  f (x)  g (y)\n",
       "95   9.6   9.111628e+95   48.4    0.0\n",
       "96   9.7   9.326033e+96   48.8    0.0\n",
       "97   9.8   9.545485e+97   49.2    0.0\n",
       "98   9.9   9.770100e+98   49.6    0.0\n",
       "99  10.0  1.000000e+100   50.0    0.0"
      ]
     },
     "execution_count": 35,
     "metadata": {},
     "output_type": "execute_result"
    }
   ],
   "source": [
    "df_funcs = df_funcs.fillna(0) \n",
    "df_funcs.tail()"
   ]
  },
  {
   "cell_type": "code",
   "execution_count": 36,
   "metadata": {},
   "outputs": [
    {
     "data": {
      "text/html": [
       "<div>\n",
       "<style scoped>\n",
       "    .dataframe tbody tr th:only-of-type {\n",
       "        vertical-align: middle;\n",
       "    }\n",
       "\n",
       "    .dataframe tbody tr th {\n",
       "        vertical-align: top;\n",
       "    }\n",
       "\n",
       "    .dataframe thead th {\n",
       "        text-align: right;\n",
       "    }\n",
       "</style>\n",
       "<table border=\"1\" class=\"dataframe\">\n",
       "  <thead>\n",
       "    <tr style=\"text-align: right;\">\n",
       "      <th></th>\n",
       "      <th>x</th>\n",
       "      <th>y</th>\n",
       "      <th>f (x)</th>\n",
       "      <th>g (y)</th>\n",
       "    </tr>\n",
       "  </thead>\n",
       "  <tbody>\n",
       "    <tr>\n",
       "      <th>0</th>\n",
       "      <td>0.1</td>\n",
       "      <td>1.000000</td>\n",
       "      <td>10.4</td>\n",
       "      <td>1.000400</td>\n",
       "    </tr>\n",
       "    <tr>\n",
       "      <th>1</th>\n",
       "      <td>0.2</td>\n",
       "      <td>10.235310</td>\n",
       "      <td>10.8</td>\n",
       "      <td>1.004103</td>\n",
       "    </tr>\n",
       "    <tr>\n",
       "      <th>2</th>\n",
       "      <td>0.3</td>\n",
       "      <td>104.761575</td>\n",
       "      <td>11.2</td>\n",
       "      <td>1.042795</td>\n",
       "    </tr>\n",
       "    <tr>\n",
       "      <th>3</th>\n",
       "      <td>0.4</td>\n",
       "      <td>1072.267222</td>\n",
       "      <td>11.6</td>\n",
       "      <td>1.535578</td>\n",
       "    </tr>\n",
       "    <tr>\n",
       "      <th>4</th>\n",
       "      <td>0.5</td>\n",
       "      <td>10974.987655</td>\n",
       "      <td>12.0</td>\n",
       "      <td>80.640021</td>\n",
       "    </tr>\n",
       "  </tbody>\n",
       "</table>\n",
       "</div>"
      ],
      "text/plain": [
       "     x             y  f (x)      g (y)\n",
       "0  0.1      1.000000   10.4   1.000400\n",
       "1  0.2     10.235310   10.8   1.004103\n",
       "2  0.3    104.761575   11.2   1.042795\n",
       "3  0.4   1072.267222   11.6   1.535578\n",
       "4  0.5  10974.987655   12.0  80.640021"
      ]
     },
     "execution_count": 36,
     "metadata": {},
     "output_type": "execute_result"
    }
   ],
   "source": [
    "df_funcs.head()"
   ]
  },
  {
   "cell_type": "markdown",
   "metadata": {},
   "source": [
    "### 5.2 Data selection"
   ]
  },
  {
   "cell_type": "markdown",
   "metadata": {},
   "source": [
    "We can select some data, throwing away the same that we don't need in your data analysis. For instance, we can keep just $y <= 1e10$ in `df_arrays` doing:"
   ]
  },
  {
   "cell_type": "code",
   "execution_count": 37,
   "metadata": {},
   "outputs": [],
   "source": [
    "df_funcs = df_funcs[df_funcs['y'] <= 1e10]"
   ]
  },
  {
   "cell_type": "markdown",
   "metadata": {},
   "source": [
    "Then, if we take a look:"
   ]
  },
  {
   "cell_type": "code",
   "execution_count": 38,
   "metadata": {},
   "outputs": [
    {
     "data": {
      "text/html": [
       "<div>\n",
       "<style scoped>\n",
       "    .dataframe tbody tr th:only-of-type {\n",
       "        vertical-align: middle;\n",
       "    }\n",
       "\n",
       "    .dataframe tbody tr th {\n",
       "        vertical-align: top;\n",
       "    }\n",
       "\n",
       "    .dataframe thead th {\n",
       "        text-align: right;\n",
       "    }\n",
       "</style>\n",
       "<table border=\"1\" class=\"dataframe\">\n",
       "  <thead>\n",
       "    <tr style=\"text-align: right;\">\n",
       "      <th></th>\n",
       "      <th>x</th>\n",
       "      <th>y</th>\n",
       "      <th>f (x)</th>\n",
       "      <th>g (y)</th>\n",
       "    </tr>\n",
       "  </thead>\n",
       "  <tbody>\n",
       "    <tr>\n",
       "      <th>5</th>\n",
       "      <td>0.6</td>\n",
       "      <td>1.123324e+05</td>\n",
       "      <td>12.4</td>\n",
       "      <td>3.266910e+19</td>\n",
       "    </tr>\n",
       "    <tr>\n",
       "      <th>6</th>\n",
       "      <td>0.7</td>\n",
       "      <td>1.149757e+06</td>\n",
       "      <td>12.8</td>\n",
       "      <td>5.410625e+199</td>\n",
       "    </tr>\n",
       "    <tr>\n",
       "      <th>7</th>\n",
       "      <td>0.8</td>\n",
       "      <td>1.176812e+07</td>\n",
       "      <td>13.2</td>\n",
       "      <td>0.000000e+00</td>\n",
       "    </tr>\n",
       "    <tr>\n",
       "      <th>8</th>\n",
       "      <td>0.9</td>\n",
       "      <td>1.204504e+08</td>\n",
       "      <td>13.6</td>\n",
       "      <td>0.000000e+00</td>\n",
       "    </tr>\n",
       "    <tr>\n",
       "      <th>9</th>\n",
       "      <td>1.0</td>\n",
       "      <td>1.232847e+09</td>\n",
       "      <td>14.0</td>\n",
       "      <td>0.000000e+00</td>\n",
       "    </tr>\n",
       "  </tbody>\n",
       "</table>\n",
       "</div>"
      ],
      "text/plain": [
       "     x             y  f (x)          g (y)\n",
       "5  0.6  1.123324e+05   12.4   3.266910e+19\n",
       "6  0.7  1.149757e+06   12.8  5.410625e+199\n",
       "7  0.8  1.176812e+07   13.2   0.000000e+00\n",
       "8  0.9  1.204504e+08   13.6   0.000000e+00\n",
       "9  1.0  1.232847e+09   14.0   0.000000e+00"
      ]
     },
     "execution_count": 38,
     "metadata": {},
     "output_type": "execute_result"
    }
   ],
   "source": [
    "df_funcs.tail()"
   ]
  },
  {
   "cell_type": "code",
   "execution_count": 39,
   "metadata": {},
   "outputs": [
    {
     "data": {
      "text/html": [
       "<div>\n",
       "<style scoped>\n",
       "    .dataframe tbody tr th:only-of-type {\n",
       "        vertical-align: middle;\n",
       "    }\n",
       "\n",
       "    .dataframe tbody tr th {\n",
       "        vertical-align: top;\n",
       "    }\n",
       "\n",
       "    .dataframe thead th {\n",
       "        text-align: right;\n",
       "    }\n",
       "</style>\n",
       "<table border=\"1\" class=\"dataframe\">\n",
       "  <thead>\n",
       "    <tr style=\"text-align: right;\">\n",
       "      <th></th>\n",
       "      <th>x</th>\n",
       "      <th>y</th>\n",
       "      <th>f (x)</th>\n",
       "      <th>g (y)</th>\n",
       "    </tr>\n",
       "  </thead>\n",
       "  <tbody>\n",
       "    <tr>\n",
       "      <th>0</th>\n",
       "      <td>0.1</td>\n",
       "      <td>1.000000</td>\n",
       "      <td>10.4</td>\n",
       "      <td>1.000400</td>\n",
       "    </tr>\n",
       "    <tr>\n",
       "      <th>1</th>\n",
       "      <td>0.2</td>\n",
       "      <td>10.235310</td>\n",
       "      <td>10.8</td>\n",
       "      <td>1.004103</td>\n",
       "    </tr>\n",
       "    <tr>\n",
       "      <th>2</th>\n",
       "      <td>0.3</td>\n",
       "      <td>104.761575</td>\n",
       "      <td>11.2</td>\n",
       "      <td>1.042795</td>\n",
       "    </tr>\n",
       "    <tr>\n",
       "      <th>3</th>\n",
       "      <td>0.4</td>\n",
       "      <td>1072.267222</td>\n",
       "      <td>11.6</td>\n",
       "      <td>1.535578</td>\n",
       "    </tr>\n",
       "    <tr>\n",
       "      <th>4</th>\n",
       "      <td>0.5</td>\n",
       "      <td>10974.987655</td>\n",
       "      <td>12.0</td>\n",
       "      <td>80.640021</td>\n",
       "    </tr>\n",
       "  </tbody>\n",
       "</table>\n",
       "</div>"
      ],
      "text/plain": [
       "     x             y  f (x)      g (y)\n",
       "0  0.1      1.000000   10.4   1.000400\n",
       "1  0.2     10.235310   10.8   1.004103\n",
       "2  0.3    104.761575   11.2   1.042795\n",
       "3  0.4   1072.267222   11.6   1.535578\n",
       "4  0.5  10974.987655   12.0  80.640021"
      ]
     },
     "execution_count": 39,
     "metadata": {},
     "output_type": "execute_result"
    }
   ],
   "source": [
    "df_funcs.head()"
   ]
  },
  {
   "cell_type": "markdown",
   "metadata": {},
   "source": [
    "### 5.3 Replacing data"
   ]
  },
  {
   "cell_type": "markdown",
   "metadata": {},
   "source": [
    "If you want to replace some of your data, for example, the $g (y) = 0$ by, for instance, $1$, you can perform:"
   ]
  },
  {
   "cell_type": "code",
   "execution_count": 40,
   "metadata": {},
   "outputs": [],
   "source": [
    "df_funcs['g (y)'].replace(0, 1, inplace = True)"
   ]
  },
  {
   "cell_type": "code",
   "execution_count": 41,
   "metadata": {},
   "outputs": [
    {
     "data": {
      "text/html": [
       "<div>\n",
       "<style scoped>\n",
       "    .dataframe tbody tr th:only-of-type {\n",
       "        vertical-align: middle;\n",
       "    }\n",
       "\n",
       "    .dataframe tbody tr th {\n",
       "        vertical-align: top;\n",
       "    }\n",
       "\n",
       "    .dataframe thead th {\n",
       "        text-align: right;\n",
       "    }\n",
       "</style>\n",
       "<table border=\"1\" class=\"dataframe\">\n",
       "  <thead>\n",
       "    <tr style=\"text-align: right;\">\n",
       "      <th></th>\n",
       "      <th>x</th>\n",
       "      <th>y</th>\n",
       "      <th>f (x)</th>\n",
       "      <th>g (y)</th>\n",
       "    </tr>\n",
       "  </thead>\n",
       "  <tbody>\n",
       "    <tr>\n",
       "      <th>5</th>\n",
       "      <td>0.6</td>\n",
       "      <td>1.123324e+05</td>\n",
       "      <td>12.4</td>\n",
       "      <td>3.266910e+19</td>\n",
       "    </tr>\n",
       "    <tr>\n",
       "      <th>6</th>\n",
       "      <td>0.7</td>\n",
       "      <td>1.149757e+06</td>\n",
       "      <td>12.8</td>\n",
       "      <td>5.410625e+199</td>\n",
       "    </tr>\n",
       "    <tr>\n",
       "      <th>7</th>\n",
       "      <td>0.8</td>\n",
       "      <td>1.176812e+07</td>\n",
       "      <td>13.2</td>\n",
       "      <td>1.000000e+00</td>\n",
       "    </tr>\n",
       "    <tr>\n",
       "      <th>8</th>\n",
       "      <td>0.9</td>\n",
       "      <td>1.204504e+08</td>\n",
       "      <td>13.6</td>\n",
       "      <td>1.000000e+00</td>\n",
       "    </tr>\n",
       "    <tr>\n",
       "      <th>9</th>\n",
       "      <td>1.0</td>\n",
       "      <td>1.232847e+09</td>\n",
       "      <td>14.0</td>\n",
       "      <td>1.000000e+00</td>\n",
       "    </tr>\n",
       "  </tbody>\n",
       "</table>\n",
       "</div>"
      ],
      "text/plain": [
       "     x             y  f (x)          g (y)\n",
       "5  0.6  1.123324e+05   12.4   3.266910e+19\n",
       "6  0.7  1.149757e+06   12.8  5.410625e+199\n",
       "7  0.8  1.176812e+07   13.2   1.000000e+00\n",
       "8  0.9  1.204504e+08   13.6   1.000000e+00\n",
       "9  1.0  1.232847e+09   14.0   1.000000e+00"
      ]
     },
     "execution_count": 41,
     "metadata": {},
     "output_type": "execute_result"
    }
   ],
   "source": [
    "df_funcs.tail()"
   ]
  },
  {
   "cell_type": "markdown",
   "metadata": {},
   "source": [
    "### 5.3 Data transformation"
   ]
  },
  {
   "cell_type": "markdown",
   "metadata": {},
   "source": [
    "You can transform one column of your data set just applying your transformation diferently to that column:"
   ]
  },
  {
   "cell_type": "code",
   "execution_count": 42,
   "metadata": {},
   "outputs": [
    {
     "data": {
      "text/html": [
       "<div>\n",
       "<style scoped>\n",
       "    .dataframe tbody tr th:only-of-type {\n",
       "        vertical-align: middle;\n",
       "    }\n",
       "\n",
       "    .dataframe tbody tr th {\n",
       "        vertical-align: top;\n",
       "    }\n",
       "\n",
       "    .dataframe thead th {\n",
       "        text-align: right;\n",
       "    }\n",
       "</style>\n",
       "<table border=\"1\" class=\"dataframe\">\n",
       "  <thead>\n",
       "    <tr style=\"text-align: right;\">\n",
       "      <th></th>\n",
       "      <th>x</th>\n",
       "      <th>y</th>\n",
       "      <th>f (x)</th>\n",
       "      <th>g (y)</th>\n",
       "    </tr>\n",
       "  </thead>\n",
       "  <tbody>\n",
       "    <tr>\n",
       "      <th>5</th>\n",
       "      <td>11.0</td>\n",
       "      <td>1.123324e+05</td>\n",
       "      <td>14.133333</td>\n",
       "      <td>3.266910e+19</td>\n",
       "    </tr>\n",
       "    <tr>\n",
       "      <th>6</th>\n",
       "      <td>13.0</td>\n",
       "      <td>1.149757e+06</td>\n",
       "      <td>14.266667</td>\n",
       "      <td>5.410625e+199</td>\n",
       "    </tr>\n",
       "    <tr>\n",
       "      <th>7</th>\n",
       "      <td>15.0</td>\n",
       "      <td>1.176812e+07</td>\n",
       "      <td>14.400000</td>\n",
       "      <td>1.000000e+00</td>\n",
       "    </tr>\n",
       "    <tr>\n",
       "      <th>8</th>\n",
       "      <td>17.0</td>\n",
       "      <td>1.204504e+08</td>\n",
       "      <td>14.533333</td>\n",
       "      <td>1.000000e+00</td>\n",
       "    </tr>\n",
       "    <tr>\n",
       "      <th>9</th>\n",
       "      <td>19.0</td>\n",
       "      <td>1.232847e+09</td>\n",
       "      <td>14.666667</td>\n",
       "      <td>1.000000e+00</td>\n",
       "    </tr>\n",
       "  </tbody>\n",
       "</table>\n",
       "</div>"
      ],
      "text/plain": [
       "      x             y      f (x)          g (y)\n",
       "5  11.0  1.123324e+05  14.133333   3.266910e+19\n",
       "6  13.0  1.149757e+06  14.266667  5.410625e+199\n",
       "7  15.0  1.176812e+07  14.400000   1.000000e+00\n",
       "8  17.0  1.204504e+08  14.533333   1.000000e+00\n",
       "9  19.0  1.232847e+09  14.666667   1.000000e+00"
      ]
     },
     "execution_count": 42,
     "metadata": {},
     "output_type": "execute_result"
    }
   ],
   "source": [
    "df_funcs['x'] = 20.*df_funcs['x'] - 1.0\n",
    "df_funcs['f (x)'] = df_funcs['f (x)']/3. + 10.\n",
    "df_funcs.tail()"
   ]
  },
  {
   "cell_type": "markdown",
   "metadata": {},
   "source": [
    "Or you can apply some transformation directly to your entire data set doing:"
   ]
  },
  {
   "cell_type": "code",
   "execution_count": 43,
   "metadata": {},
   "outputs": [],
   "source": [
    "df_funcs = np.log10(df_funcs)"
   ]
  },
  {
   "cell_type": "code",
   "execution_count": 44,
   "metadata": {},
   "outputs": [
    {
     "data": {
      "text/html": [
       "<div>\n",
       "<style scoped>\n",
       "    .dataframe tbody tr th:only-of-type {\n",
       "        vertical-align: middle;\n",
       "    }\n",
       "\n",
       "    .dataframe tbody tr th {\n",
       "        vertical-align: top;\n",
       "    }\n",
       "\n",
       "    .dataframe thead th {\n",
       "        text-align: right;\n",
       "    }\n",
       "</style>\n",
       "<table border=\"1\" class=\"dataframe\">\n",
       "  <thead>\n",
       "    <tr style=\"text-align: right;\">\n",
       "      <th></th>\n",
       "      <th>x</th>\n",
       "      <th>y</th>\n",
       "      <th>f (x)</th>\n",
       "      <th>g (y)</th>\n",
       "    </tr>\n",
       "  </thead>\n",
       "  <tbody>\n",
       "    <tr>\n",
       "      <th>0</th>\n",
       "      <td>0.000000</td>\n",
       "      <td>0.000000</td>\n",
       "      <td>1.129260</td>\n",
       "      <td>0.000174</td>\n",
       "    </tr>\n",
       "    <tr>\n",
       "      <th>1</th>\n",
       "      <td>0.477121</td>\n",
       "      <td>1.010101</td>\n",
       "      <td>1.133539</td>\n",
       "      <td>0.001778</td>\n",
       "    </tr>\n",
       "    <tr>\n",
       "      <th>2</th>\n",
       "      <td>0.698970</td>\n",
       "      <td>2.020202</td>\n",
       "      <td>1.137776</td>\n",
       "      <td>0.018199</td>\n",
       "    </tr>\n",
       "    <tr>\n",
       "      <th>3</th>\n",
       "      <td>0.845098</td>\n",
       "      <td>3.030303</td>\n",
       "      <td>1.141972</td>\n",
       "      <td>0.186272</td>\n",
       "    </tr>\n",
       "    <tr>\n",
       "      <th>4</th>\n",
       "      <td>0.954243</td>\n",
       "      <td>4.040404</td>\n",
       "      <td>1.146128</td>\n",
       "      <td>1.906551</td>\n",
       "    </tr>\n",
       "  </tbody>\n",
       "</table>\n",
       "</div>"
      ],
      "text/plain": [
       "          x         y     f (x)     g (y)\n",
       "0  0.000000  0.000000  1.129260  0.000174\n",
       "1  0.477121  1.010101  1.133539  0.001778\n",
       "2  0.698970  2.020202  1.137776  0.018199\n",
       "3  0.845098  3.030303  1.141972  0.186272\n",
       "4  0.954243  4.040404  1.146128  1.906551"
      ]
     },
     "execution_count": 44,
     "metadata": {},
     "output_type": "execute_result"
    }
   ],
   "source": [
    "df_funcs.head()"
   ]
  },
  {
   "cell_type": "markdown",
   "metadata": {},
   "source": [
    "## 6. Statistics"
   ]
  },
  {
   "cell_type": "markdown",
   "metadata": {},
   "source": [
    "### 6.1 Descriptive statistics"
   ]
  },
  {
   "cell_type": "markdown",
   "metadata": {},
   "source": [
    "The first thing that you can do to better undestand your data set is to analyze its **descriptive statistics** using the function `.describe()`. It provides the central tendency, dispersion and shape of a dataset's distribution. By default you will have `count`, `mean`, `std`, `min`, `25 %`, `50 %`, `75 %` and `max` values from each column. One advantage of doing this is that these statistics could be kept in another data set, to use its values afterwards:"
   ]
  },
  {
   "cell_type": "code",
   "execution_count": 45,
   "metadata": {},
   "outputs": [],
   "source": [
    "statistics = df_boston.describe()"
   ]
  },
  {
   "cell_type": "code",
   "execution_count": 46,
   "metadata": {},
   "outputs": [
    {
     "data": {
      "text/html": [
       "<div>\n",
       "<style scoped>\n",
       "    .dataframe tbody tr th:only-of-type {\n",
       "        vertical-align: middle;\n",
       "    }\n",
       "\n",
       "    .dataframe tbody tr th {\n",
       "        vertical-align: top;\n",
       "    }\n",
       "\n",
       "    .dataframe thead th {\n",
       "        text-align: right;\n",
       "    }\n",
       "</style>\n",
       "<table border=\"1\" class=\"dataframe\">\n",
       "  <thead>\n",
       "    <tr style=\"text-align: right;\">\n",
       "      <th></th>\n",
       "      <th>CRIM</th>\n",
       "      <th>ZN</th>\n",
       "      <th>INDUS</th>\n",
       "      <th>CHAS</th>\n",
       "      <th>NOX</th>\n",
       "      <th>RM</th>\n",
       "      <th>AGE</th>\n",
       "      <th>DIS</th>\n",
       "      <th>RAD</th>\n",
       "      <th>TAX</th>\n",
       "      <th>PTRATIO</th>\n",
       "      <th>B</th>\n",
       "      <th>LSTAT</th>\n",
       "    </tr>\n",
       "  </thead>\n",
       "  <tbody>\n",
       "    <tr>\n",
       "      <th>count</th>\n",
       "      <td>506.000000</td>\n",
       "      <td>506.000000</td>\n",
       "      <td>506.000000</td>\n",
       "      <td>506.000000</td>\n",
       "      <td>506.000000</td>\n",
       "      <td>506.000000</td>\n",
       "      <td>506.000000</td>\n",
       "      <td>506.000000</td>\n",
       "      <td>506.000000</td>\n",
       "      <td>506.000000</td>\n",
       "      <td>506.000000</td>\n",
       "      <td>506.000000</td>\n",
       "      <td>506.000000</td>\n",
       "    </tr>\n",
       "    <tr>\n",
       "      <th>mean</th>\n",
       "      <td>3.613524</td>\n",
       "      <td>11.363636</td>\n",
       "      <td>11.136779</td>\n",
       "      <td>0.069170</td>\n",
       "      <td>0.554695</td>\n",
       "      <td>6.284634</td>\n",
       "      <td>68.574901</td>\n",
       "      <td>3.795043</td>\n",
       "      <td>9.549407</td>\n",
       "      <td>408.237154</td>\n",
       "      <td>18.455534</td>\n",
       "      <td>356.674032</td>\n",
       "      <td>12.653063</td>\n",
       "    </tr>\n",
       "    <tr>\n",
       "      <th>std</th>\n",
       "      <td>8.601545</td>\n",
       "      <td>23.322453</td>\n",
       "      <td>6.860353</td>\n",
       "      <td>0.253994</td>\n",
       "      <td>0.115878</td>\n",
       "      <td>0.702617</td>\n",
       "      <td>28.148861</td>\n",
       "      <td>2.105710</td>\n",
       "      <td>8.707259</td>\n",
       "      <td>168.537116</td>\n",
       "      <td>2.164946</td>\n",
       "      <td>91.294864</td>\n",
       "      <td>7.141062</td>\n",
       "    </tr>\n",
       "    <tr>\n",
       "      <th>min</th>\n",
       "      <td>0.006320</td>\n",
       "      <td>0.000000</td>\n",
       "      <td>0.460000</td>\n",
       "      <td>0.000000</td>\n",
       "      <td>0.385000</td>\n",
       "      <td>3.561000</td>\n",
       "      <td>2.900000</td>\n",
       "      <td>1.129600</td>\n",
       "      <td>1.000000</td>\n",
       "      <td>187.000000</td>\n",
       "      <td>12.600000</td>\n",
       "      <td>0.320000</td>\n",
       "      <td>1.730000</td>\n",
       "    </tr>\n",
       "    <tr>\n",
       "      <th>25%</th>\n",
       "      <td>0.082045</td>\n",
       "      <td>0.000000</td>\n",
       "      <td>5.190000</td>\n",
       "      <td>0.000000</td>\n",
       "      <td>0.449000</td>\n",
       "      <td>5.885500</td>\n",
       "      <td>45.025000</td>\n",
       "      <td>2.100175</td>\n",
       "      <td>4.000000</td>\n",
       "      <td>279.000000</td>\n",
       "      <td>17.400000</td>\n",
       "      <td>375.377500</td>\n",
       "      <td>6.950000</td>\n",
       "    </tr>\n",
       "    <tr>\n",
       "      <th>50%</th>\n",
       "      <td>0.256510</td>\n",
       "      <td>0.000000</td>\n",
       "      <td>9.690000</td>\n",
       "      <td>0.000000</td>\n",
       "      <td>0.538000</td>\n",
       "      <td>6.208500</td>\n",
       "      <td>77.500000</td>\n",
       "      <td>3.207450</td>\n",
       "      <td>5.000000</td>\n",
       "      <td>330.000000</td>\n",
       "      <td>19.050000</td>\n",
       "      <td>391.440000</td>\n",
       "      <td>11.360000</td>\n",
       "    </tr>\n",
       "    <tr>\n",
       "      <th>75%</th>\n",
       "      <td>3.677083</td>\n",
       "      <td>12.500000</td>\n",
       "      <td>18.100000</td>\n",
       "      <td>0.000000</td>\n",
       "      <td>0.624000</td>\n",
       "      <td>6.623500</td>\n",
       "      <td>94.075000</td>\n",
       "      <td>5.188425</td>\n",
       "      <td>24.000000</td>\n",
       "      <td>666.000000</td>\n",
       "      <td>20.200000</td>\n",
       "      <td>396.225000</td>\n",
       "      <td>16.955000</td>\n",
       "    </tr>\n",
       "    <tr>\n",
       "      <th>max</th>\n",
       "      <td>88.976200</td>\n",
       "      <td>100.000000</td>\n",
       "      <td>27.740000</td>\n",
       "      <td>1.000000</td>\n",
       "      <td>0.871000</td>\n",
       "      <td>8.780000</td>\n",
       "      <td>100.000000</td>\n",
       "      <td>12.126500</td>\n",
       "      <td>24.000000</td>\n",
       "      <td>711.000000</td>\n",
       "      <td>22.000000</td>\n",
       "      <td>396.900000</td>\n",
       "      <td>37.970000</td>\n",
       "    </tr>\n",
       "  </tbody>\n",
       "</table>\n",
       "</div>"
      ],
      "text/plain": [
       "             CRIM          ZN       INDUS        CHAS         NOX          RM  \\\n",
       "count  506.000000  506.000000  506.000000  506.000000  506.000000  506.000000   \n",
       "mean     3.613524   11.363636   11.136779    0.069170    0.554695    6.284634   \n",
       "std      8.601545   23.322453    6.860353    0.253994    0.115878    0.702617   \n",
       "min      0.006320    0.000000    0.460000    0.000000    0.385000    3.561000   \n",
       "25%      0.082045    0.000000    5.190000    0.000000    0.449000    5.885500   \n",
       "50%      0.256510    0.000000    9.690000    0.000000    0.538000    6.208500   \n",
       "75%      3.677083   12.500000   18.100000    0.000000    0.624000    6.623500   \n",
       "max     88.976200  100.000000   27.740000    1.000000    0.871000    8.780000   \n",
       "\n",
       "              AGE         DIS         RAD         TAX     PTRATIO           B  \\\n",
       "count  506.000000  506.000000  506.000000  506.000000  506.000000  506.000000   \n",
       "mean    68.574901    3.795043    9.549407  408.237154   18.455534  356.674032   \n",
       "std     28.148861    2.105710    8.707259  168.537116    2.164946   91.294864   \n",
       "min      2.900000    1.129600    1.000000  187.000000   12.600000    0.320000   \n",
       "25%     45.025000    2.100175    4.000000  279.000000   17.400000  375.377500   \n",
       "50%     77.500000    3.207450    5.000000  330.000000   19.050000  391.440000   \n",
       "75%     94.075000    5.188425   24.000000  666.000000   20.200000  396.225000   \n",
       "max    100.000000   12.126500   24.000000  711.000000   22.000000  396.900000   \n",
       "\n",
       "            LSTAT  \n",
       "count  506.000000  \n",
       "mean    12.653063  \n",
       "std      7.141062  \n",
       "min      1.730000  \n",
       "25%      6.950000  \n",
       "50%     11.360000  \n",
       "75%     16.955000  \n",
       "max     37.970000  "
      ]
     },
     "execution_count": 46,
     "metadata": {},
     "output_type": "execute_result"
    }
   ],
   "source": [
    "statistics"
   ]
  },
  {
   "cell_type": "markdown",
   "metadata": {},
   "source": [
    "And, of course, you can use this method for each separeted collumn that you want:"
   ]
  },
  {
   "cell_type": "code",
   "execution_count": 47,
   "metadata": {},
   "outputs": [
    {
     "data": {
      "text/plain": [
       "count    506.000000\n",
       "mean     356.674032\n",
       "std       91.294864\n",
       "min        0.320000\n",
       "25%      375.377500\n",
       "50%      391.440000\n",
       "75%      396.225000\n",
       "max      396.900000\n",
       "Name: B, dtype: float64"
      ]
     },
     "execution_count": 47,
     "metadata": {},
     "output_type": "execute_result"
    }
   ],
   "source": [
    "df_boston['B'].describe()"
   ]
  },
  {
   "cell_type": "markdown",
   "metadata": {},
   "source": [
    "### 6.2 Descriptive statistics separately"
   ]
  },
  {
   "cell_type": "markdown",
   "metadata": {},
   "source": [
    "You can compute separately a lot of other statistic values. For example:\n",
    "\n",
    "| Function | Description | \n",
    "|--------|-------------|\n",
    "| .count()| Nuber of non-null observables |\n",
    "| .mean() | Mean of Values |\n",
    "| .median() | Median of Values |\n",
    "| .mode() | Mode of values |\n",
    "| .std() | Standard Deviation of the Values |\n",
    "| .min() | Minimum Value |\n",
    "| .max() | Maximum Value |"
   ]
  },
  {
   "cell_type": "code",
   "execution_count": 48,
   "metadata": {},
   "outputs": [
    {
     "data": {
      "text/plain": [
       "(356.6740316205534, 91.29486438415783)"
      ]
     },
     "execution_count": 48,
     "metadata": {},
     "output_type": "execute_result"
    }
   ],
   "source": [
    "mean_B = df_boston['B'].mean()\n",
    "std_B = df_boston['B'].std()\n",
    "mean_B, std_B"
   ]
  },
  {
   "cell_type": "markdown",
   "metadata": {},
   "source": [
    "### 6.3 Frequency of all values in some column"
   ]
  },
  {
   "cell_type": "code",
   "execution_count": 49,
   "metadata": {},
   "outputs": [
    {
     "data": {
      "text/plain": [
       "396.90    121\n",
       "395.24      3\n",
       "393.74      3\n",
       "393.23      2\n",
       "394.72      2\n",
       "         ... \n",
       "394.46      1\n",
       "288.99      1\n",
       "390.30      1\n",
       "248.31      1\n",
       "390.50      1\n",
       "Name: B, Length: 357, dtype: int64"
      ]
     },
     "execution_count": 49,
     "metadata": {},
     "output_type": "execute_result"
    }
   ],
   "source": [
    "df_boston['B'].value_counts()"
   ]
  },
  {
   "cell_type": "markdown",
   "metadata": {},
   "source": [
    "### 6.4 Data Correlation"
   ]
  },
  {
   "cell_type": "markdown",
   "metadata": {},
   "source": [
    "You can compute the correlation from each continuous variable in the columns, as well save it as another data frame, just doing:"
   ]
  },
  {
   "cell_type": "code",
   "execution_count": 50,
   "metadata": {},
   "outputs": [
    {
     "data": {
      "text/html": [
       "<div>\n",
       "<style scoped>\n",
       "    .dataframe tbody tr th:only-of-type {\n",
       "        vertical-align: middle;\n",
       "    }\n",
       "\n",
       "    .dataframe tbody tr th {\n",
       "        vertical-align: top;\n",
       "    }\n",
       "\n",
       "    .dataframe thead th {\n",
       "        text-align: right;\n",
       "    }\n",
       "</style>\n",
       "<table border=\"1\" class=\"dataframe\">\n",
       "  <thead>\n",
       "    <tr style=\"text-align: right;\">\n",
       "      <th></th>\n",
       "      <th>CRIM</th>\n",
       "      <th>ZN</th>\n",
       "      <th>INDUS</th>\n",
       "      <th>CHAS</th>\n",
       "      <th>NOX</th>\n",
       "      <th>RM</th>\n",
       "      <th>AGE</th>\n",
       "      <th>DIS</th>\n",
       "      <th>RAD</th>\n",
       "      <th>TAX</th>\n",
       "      <th>PTRATIO</th>\n",
       "      <th>B</th>\n",
       "      <th>LSTAT</th>\n",
       "    </tr>\n",
       "  </thead>\n",
       "  <tbody>\n",
       "    <tr>\n",
       "      <th>CRIM</th>\n",
       "      <td>1.000000</td>\n",
       "      <td>-0.200469</td>\n",
       "      <td>0.406583</td>\n",
       "      <td>-0.055892</td>\n",
       "      <td>0.420972</td>\n",
       "      <td>-0.219247</td>\n",
       "      <td>0.352734</td>\n",
       "      <td>-0.379670</td>\n",
       "      <td>0.625505</td>\n",
       "      <td>0.582764</td>\n",
       "      <td>0.289946</td>\n",
       "      <td>-0.385064</td>\n",
       "      <td>0.455621</td>\n",
       "    </tr>\n",
       "    <tr>\n",
       "      <th>ZN</th>\n",
       "      <td>-0.200469</td>\n",
       "      <td>1.000000</td>\n",
       "      <td>-0.533828</td>\n",
       "      <td>-0.042697</td>\n",
       "      <td>-0.516604</td>\n",
       "      <td>0.311991</td>\n",
       "      <td>-0.569537</td>\n",
       "      <td>0.664408</td>\n",
       "      <td>-0.311948</td>\n",
       "      <td>-0.314563</td>\n",
       "      <td>-0.391679</td>\n",
       "      <td>0.175520</td>\n",
       "      <td>-0.412995</td>\n",
       "    </tr>\n",
       "    <tr>\n",
       "      <th>INDUS</th>\n",
       "      <td>0.406583</td>\n",
       "      <td>-0.533828</td>\n",
       "      <td>1.000000</td>\n",
       "      <td>0.062938</td>\n",
       "      <td>0.763651</td>\n",
       "      <td>-0.391676</td>\n",
       "      <td>0.644779</td>\n",
       "      <td>-0.708027</td>\n",
       "      <td>0.595129</td>\n",
       "      <td>0.720760</td>\n",
       "      <td>0.383248</td>\n",
       "      <td>-0.356977</td>\n",
       "      <td>0.603800</td>\n",
       "    </tr>\n",
       "    <tr>\n",
       "      <th>CHAS</th>\n",
       "      <td>-0.055892</td>\n",
       "      <td>-0.042697</td>\n",
       "      <td>0.062938</td>\n",
       "      <td>1.000000</td>\n",
       "      <td>0.091203</td>\n",
       "      <td>0.091251</td>\n",
       "      <td>0.086518</td>\n",
       "      <td>-0.099176</td>\n",
       "      <td>-0.007368</td>\n",
       "      <td>-0.035587</td>\n",
       "      <td>-0.121515</td>\n",
       "      <td>0.048788</td>\n",
       "      <td>-0.053929</td>\n",
       "    </tr>\n",
       "    <tr>\n",
       "      <th>NOX</th>\n",
       "      <td>0.420972</td>\n",
       "      <td>-0.516604</td>\n",
       "      <td>0.763651</td>\n",
       "      <td>0.091203</td>\n",
       "      <td>1.000000</td>\n",
       "      <td>-0.302188</td>\n",
       "      <td>0.731470</td>\n",
       "      <td>-0.769230</td>\n",
       "      <td>0.611441</td>\n",
       "      <td>0.668023</td>\n",
       "      <td>0.188933</td>\n",
       "      <td>-0.380051</td>\n",
       "      <td>0.590879</td>\n",
       "    </tr>\n",
       "    <tr>\n",
       "      <th>RM</th>\n",
       "      <td>-0.219247</td>\n",
       "      <td>0.311991</td>\n",
       "      <td>-0.391676</td>\n",
       "      <td>0.091251</td>\n",
       "      <td>-0.302188</td>\n",
       "      <td>1.000000</td>\n",
       "      <td>-0.240265</td>\n",
       "      <td>0.205246</td>\n",
       "      <td>-0.209847</td>\n",
       "      <td>-0.292048</td>\n",
       "      <td>-0.355501</td>\n",
       "      <td>0.128069</td>\n",
       "      <td>-0.613808</td>\n",
       "    </tr>\n",
       "    <tr>\n",
       "      <th>AGE</th>\n",
       "      <td>0.352734</td>\n",
       "      <td>-0.569537</td>\n",
       "      <td>0.644779</td>\n",
       "      <td>0.086518</td>\n",
       "      <td>0.731470</td>\n",
       "      <td>-0.240265</td>\n",
       "      <td>1.000000</td>\n",
       "      <td>-0.747881</td>\n",
       "      <td>0.456022</td>\n",
       "      <td>0.506456</td>\n",
       "      <td>0.261515</td>\n",
       "      <td>-0.273534</td>\n",
       "      <td>0.602339</td>\n",
       "    </tr>\n",
       "    <tr>\n",
       "      <th>DIS</th>\n",
       "      <td>-0.379670</td>\n",
       "      <td>0.664408</td>\n",
       "      <td>-0.708027</td>\n",
       "      <td>-0.099176</td>\n",
       "      <td>-0.769230</td>\n",
       "      <td>0.205246</td>\n",
       "      <td>-0.747881</td>\n",
       "      <td>1.000000</td>\n",
       "      <td>-0.494588</td>\n",
       "      <td>-0.534432</td>\n",
       "      <td>-0.232471</td>\n",
       "      <td>0.291512</td>\n",
       "      <td>-0.496996</td>\n",
       "    </tr>\n",
       "    <tr>\n",
       "      <th>RAD</th>\n",
       "      <td>0.625505</td>\n",
       "      <td>-0.311948</td>\n",
       "      <td>0.595129</td>\n",
       "      <td>-0.007368</td>\n",
       "      <td>0.611441</td>\n",
       "      <td>-0.209847</td>\n",
       "      <td>0.456022</td>\n",
       "      <td>-0.494588</td>\n",
       "      <td>1.000000</td>\n",
       "      <td>0.910228</td>\n",
       "      <td>0.464741</td>\n",
       "      <td>-0.444413</td>\n",
       "      <td>0.488676</td>\n",
       "    </tr>\n",
       "    <tr>\n",
       "      <th>TAX</th>\n",
       "      <td>0.582764</td>\n",
       "      <td>-0.314563</td>\n",
       "      <td>0.720760</td>\n",
       "      <td>-0.035587</td>\n",
       "      <td>0.668023</td>\n",
       "      <td>-0.292048</td>\n",
       "      <td>0.506456</td>\n",
       "      <td>-0.534432</td>\n",
       "      <td>0.910228</td>\n",
       "      <td>1.000000</td>\n",
       "      <td>0.460853</td>\n",
       "      <td>-0.441808</td>\n",
       "      <td>0.543993</td>\n",
       "    </tr>\n",
       "    <tr>\n",
       "      <th>PTRATIO</th>\n",
       "      <td>0.289946</td>\n",
       "      <td>-0.391679</td>\n",
       "      <td>0.383248</td>\n",
       "      <td>-0.121515</td>\n",
       "      <td>0.188933</td>\n",
       "      <td>-0.355501</td>\n",
       "      <td>0.261515</td>\n",
       "      <td>-0.232471</td>\n",
       "      <td>0.464741</td>\n",
       "      <td>0.460853</td>\n",
       "      <td>1.000000</td>\n",
       "      <td>-0.177383</td>\n",
       "      <td>0.374044</td>\n",
       "    </tr>\n",
       "    <tr>\n",
       "      <th>B</th>\n",
       "      <td>-0.385064</td>\n",
       "      <td>0.175520</td>\n",
       "      <td>-0.356977</td>\n",
       "      <td>0.048788</td>\n",
       "      <td>-0.380051</td>\n",
       "      <td>0.128069</td>\n",
       "      <td>-0.273534</td>\n",
       "      <td>0.291512</td>\n",
       "      <td>-0.444413</td>\n",
       "      <td>-0.441808</td>\n",
       "      <td>-0.177383</td>\n",
       "      <td>1.000000</td>\n",
       "      <td>-0.366087</td>\n",
       "    </tr>\n",
       "    <tr>\n",
       "      <th>LSTAT</th>\n",
       "      <td>0.455621</td>\n",
       "      <td>-0.412995</td>\n",
       "      <td>0.603800</td>\n",
       "      <td>-0.053929</td>\n",
       "      <td>0.590879</td>\n",
       "      <td>-0.613808</td>\n",
       "      <td>0.602339</td>\n",
       "      <td>-0.496996</td>\n",
       "      <td>0.488676</td>\n",
       "      <td>0.543993</td>\n",
       "      <td>0.374044</td>\n",
       "      <td>-0.366087</td>\n",
       "      <td>1.000000</td>\n",
       "    </tr>\n",
       "  </tbody>\n",
       "</table>\n",
       "</div>"
      ],
      "text/plain": [
       "             CRIM        ZN     INDUS      CHAS       NOX        RM       AGE  \\\n",
       "CRIM     1.000000 -0.200469  0.406583 -0.055892  0.420972 -0.219247  0.352734   \n",
       "ZN      -0.200469  1.000000 -0.533828 -0.042697 -0.516604  0.311991 -0.569537   \n",
       "INDUS    0.406583 -0.533828  1.000000  0.062938  0.763651 -0.391676  0.644779   \n",
       "CHAS    -0.055892 -0.042697  0.062938  1.000000  0.091203  0.091251  0.086518   \n",
       "NOX      0.420972 -0.516604  0.763651  0.091203  1.000000 -0.302188  0.731470   \n",
       "RM      -0.219247  0.311991 -0.391676  0.091251 -0.302188  1.000000 -0.240265   \n",
       "AGE      0.352734 -0.569537  0.644779  0.086518  0.731470 -0.240265  1.000000   \n",
       "DIS     -0.379670  0.664408 -0.708027 -0.099176 -0.769230  0.205246 -0.747881   \n",
       "RAD      0.625505 -0.311948  0.595129 -0.007368  0.611441 -0.209847  0.456022   \n",
       "TAX      0.582764 -0.314563  0.720760 -0.035587  0.668023 -0.292048  0.506456   \n",
       "PTRATIO  0.289946 -0.391679  0.383248 -0.121515  0.188933 -0.355501  0.261515   \n",
       "B       -0.385064  0.175520 -0.356977  0.048788 -0.380051  0.128069 -0.273534   \n",
       "LSTAT    0.455621 -0.412995  0.603800 -0.053929  0.590879 -0.613808  0.602339   \n",
       "\n",
       "              DIS       RAD       TAX   PTRATIO         B     LSTAT  \n",
       "CRIM    -0.379670  0.625505  0.582764  0.289946 -0.385064  0.455621  \n",
       "ZN       0.664408 -0.311948 -0.314563 -0.391679  0.175520 -0.412995  \n",
       "INDUS   -0.708027  0.595129  0.720760  0.383248 -0.356977  0.603800  \n",
       "CHAS    -0.099176 -0.007368 -0.035587 -0.121515  0.048788 -0.053929  \n",
       "NOX     -0.769230  0.611441  0.668023  0.188933 -0.380051  0.590879  \n",
       "RM       0.205246 -0.209847 -0.292048 -0.355501  0.128069 -0.613808  \n",
       "AGE     -0.747881  0.456022  0.506456  0.261515 -0.273534  0.602339  \n",
       "DIS      1.000000 -0.494588 -0.534432 -0.232471  0.291512 -0.496996  \n",
       "RAD     -0.494588  1.000000  0.910228  0.464741 -0.444413  0.488676  \n",
       "TAX     -0.534432  0.910228  1.000000  0.460853 -0.441808  0.543993  \n",
       "PTRATIO -0.232471  0.464741  0.460853  1.000000 -0.177383  0.374044  \n",
       "B        0.291512 -0.444413 -0.441808 -0.177383  1.000000 -0.366087  \n",
       "LSTAT   -0.496996  0.488676  0.543993  0.374044 -0.366087  1.000000  "
      ]
     },
     "execution_count": 50,
     "metadata": {},
     "output_type": "execute_result"
    }
   ],
   "source": [
    "corr = df_boston.corr()\n",
    "corr"
   ]
  },
  {
   "cell_type": "markdown",
   "metadata": {},
   "source": [
    "The correlation method used is by default pearson correlation, but you can change it passing: `method = 'X'`, as the argument of the function."
   ]
  },
  {
   "cell_type": "markdown",
   "metadata": {},
   "source": [
    "You can see the correlation in a pretty way doing:"
   ]
  },
  {
   "cell_type": "code",
   "execution_count": 51,
   "metadata": {},
   "outputs": [
    {
     "data": {
      "text/html": [
       "<style  type=\"text/css\" >\n",
       "    #T_d932f57a_e0ed_11ea_b347_5cc9d372dcb7row0_col0 {\n",
       "            background-color:  #b40426;\n",
       "            color:  #f1f1f1;\n",
       "        }    #T_d932f57a_e0ed_11ea_b347_5cc9d372dcb7row0_col1 {\n",
       "            background-color:  #88abfd;\n",
       "            color:  #000000;\n",
       "        }    #T_d932f57a_e0ed_11ea_b347_5cc9d372dcb7row0_col2 {\n",
       "            background-color:  #f7bca1;\n",
       "            color:  #000000;\n",
       "        }    #T_d932f57a_e0ed_11ea_b347_5cc9d372dcb7row0_col3 {\n",
       "            background-color:  #4b64d5;\n",
       "            color:  #f1f1f1;\n",
       "        }    #T_d932f57a_e0ed_11ea_b347_5cc9d372dcb7row0_col4 {\n",
       "            background-color:  #f7b599;\n",
       "            color:  #000000;\n",
       "        }    #T_d932f57a_e0ed_11ea_b347_5cc9d372dcb7row0_col5 {\n",
       "            background-color:  #8badfd;\n",
       "            color:  #000000;\n",
       "        }    #T_d932f57a_e0ed_11ea_b347_5cc9d372dcb7row0_col6 {\n",
       "            background-color:  #f5c2aa;\n",
       "            color:  #000000;\n",
       "        }    #T_d932f57a_e0ed_11ea_b347_5cc9d372dcb7row0_col7 {\n",
       "            background-color:  #82a6fb;\n",
       "            color:  #000000;\n",
       "        }    #T_d932f57a_e0ed_11ea_b347_5cc9d372dcb7row0_col8 {\n",
       "            background-color:  #f49a7b;\n",
       "            color:  #000000;\n",
       "        }    #T_d932f57a_e0ed_11ea_b347_5cc9d372dcb7row0_col9 {\n",
       "            background-color:  #f6a283;\n",
       "            color:  #000000;\n",
       "        }    #T_d932f57a_e0ed_11ea_b347_5cc9d372dcb7row0_col10 {\n",
       "            background-color:  #dadce0;\n",
       "            color:  #000000;\n",
       "        }    #T_d932f57a_e0ed_11ea_b347_5cc9d372dcb7row0_col11 {\n",
       "            background-color:  #465ecf;\n",
       "            color:  #f1f1f1;\n",
       "        }    #T_d932f57a_e0ed_11ea_b347_5cc9d372dcb7row0_col12 {\n",
       "            background-color:  #f7b99e;\n",
       "            color:  #000000;\n",
       "        }    #T_d932f57a_e0ed_11ea_b347_5cc9d372dcb7row1_col0 {\n",
       "            background-color:  #6485ec;\n",
       "            color:  #000000;\n",
       "        }    #T_d932f57a_e0ed_11ea_b347_5cc9d372dcb7row1_col1 {\n",
       "            background-color:  #b40426;\n",
       "            color:  #f1f1f1;\n",
       "        }    #T_d932f57a_e0ed_11ea_b347_5cc9d372dcb7row1_col2 {\n",
       "            background-color:  #5a78e4;\n",
       "            color:  #000000;\n",
       "        }    #T_d932f57a_e0ed_11ea_b347_5cc9d372dcb7row1_col3 {\n",
       "            background-color:  #4f69d9;\n",
       "            color:  #000000;\n",
       "        }    #T_d932f57a_e0ed_11ea_b347_5cc9d372dcb7row1_col4 {\n",
       "            background-color:  #6788ee;\n",
       "            color:  #000000;\n",
       "        }    #T_d932f57a_e0ed_11ea_b347_5cc9d372dcb7row1_col5 {\n",
       "            background-color:  #edd1c2;\n",
       "            color:  #000000;\n",
       "        }    #T_d932f57a_e0ed_11ea_b347_5cc9d372dcb7row1_col6 {\n",
       "            background-color:  #5a78e4;\n",
       "            color:  #000000;\n",
       "        }    #T_d932f57a_e0ed_11ea_b347_5cc9d372dcb7row1_col7 {\n",
       "            background-color:  #ec7f63;\n",
       "            color:  #000000;\n",
       "        }    #T_d932f57a_e0ed_11ea_b347_5cc9d372dcb7row1_col8 {\n",
       "            background-color:  #6180e9;\n",
       "            color:  #000000;\n",
       "        }    #T_d932f57a_e0ed_11ea_b347_5cc9d372dcb7row1_col9 {\n",
       "            background-color:  #6788ee;\n",
       "            color:  #000000;\n",
       "        }    #T_d932f57a_e0ed_11ea_b347_5cc9d372dcb7row1_col10 {\n",
       "            background-color:  #3b4cc0;\n",
       "            color:  #f1f1f1;\n",
       "        }    #T_d932f57a_e0ed_11ea_b347_5cc9d372dcb7row1_col11 {\n",
       "            background-color:  #c9d7f0;\n",
       "            color:  #000000;\n",
       "        }    #T_d932f57a_e0ed_11ea_b347_5cc9d372dcb7row1_col12 {\n",
       "            background-color:  #6180e9;\n",
       "            color:  #000000;\n",
       "        }    #T_d932f57a_e0ed_11ea_b347_5cc9d372dcb7row2_col0 {\n",
       "            background-color:  #edd1c2;\n",
       "            color:  #000000;\n",
       "        }    #T_d932f57a_e0ed_11ea_b347_5cc9d372dcb7row2_col1 {\n",
       "            background-color:  #4055c8;\n",
       "            color:  #f1f1f1;\n",
       "        }    #T_d932f57a_e0ed_11ea_b347_5cc9d372dcb7row2_col2 {\n",
       "            background-color:  #b40426;\n",
       "            color:  #f1f1f1;\n",
       "        }    #T_d932f57a_e0ed_11ea_b347_5cc9d372dcb7row2_col3 {\n",
       "            background-color:  #6f92f3;\n",
       "            color:  #000000;\n",
       "        }    #T_d932f57a_e0ed_11ea_b347_5cc9d372dcb7row2_col4 {\n",
       "            background-color:  #e0654f;\n",
       "            color:  #000000;\n",
       "        }    #T_d932f57a_e0ed_11ea_b347_5cc9d372dcb7row2_col5 {\n",
       "            background-color:  #6687ed;\n",
       "            color:  #000000;\n",
       "        }    #T_d932f57a_e0ed_11ea_b347_5cc9d372dcb7row2_col6 {\n",
       "            background-color:  #ee8669;\n",
       "            color:  #000000;\n",
       "        }    #T_d932f57a_e0ed_11ea_b347_5cc9d372dcb7row2_col7 {\n",
       "            background-color:  #445acc;\n",
       "            color:  #f1f1f1;\n",
       "        }    #T_d932f57a_e0ed_11ea_b347_5cc9d372dcb7row2_col8 {\n",
       "            background-color:  #f6a283;\n",
       "            color:  #000000;\n",
       "        }    #T_d932f57a_e0ed_11ea_b347_5cc9d372dcb7row2_col9 {\n",
       "            background-color:  #ea7b60;\n",
       "            color:  #000000;\n",
       "        }    #T_d932f57a_e0ed_11ea_b347_5cc9d372dcb7row2_col10 {\n",
       "            background-color:  #ead4c8;\n",
       "            color:  #000000;\n",
       "        }    #T_d932f57a_e0ed_11ea_b347_5cc9d372dcb7row2_col11 {\n",
       "            background-color:  #4c66d6;\n",
       "            color:  #000000;\n",
       "        }    #T_d932f57a_e0ed_11ea_b347_5cc9d372dcb7row2_col12 {\n",
       "            background-color:  #f39778;\n",
       "            color:  #000000;\n",
       "        }    #T_d932f57a_e0ed_11ea_b347_5cc9d372dcb7row3_col0 {\n",
       "            background-color:  #88abfd;\n",
       "            color:  #000000;\n",
       "        }    #T_d932f57a_e0ed_11ea_b347_5cc9d372dcb7row3_col1 {\n",
       "            background-color:  #aac7fd;\n",
       "            color:  #000000;\n",
       "        }    #T_d932f57a_e0ed_11ea_b347_5cc9d372dcb7row3_col2 {\n",
       "            background-color:  #cfdaea;\n",
       "            color:  #000000;\n",
       "        }    #T_d932f57a_e0ed_11ea_b347_5cc9d372dcb7row3_col3 {\n",
       "            background-color:  #b40426;\n",
       "            color:  #f1f1f1;\n",
       "        }    #T_d932f57a_e0ed_11ea_b347_5cc9d372dcb7row3_col4 {\n",
       "            background-color:  #d9dce1;\n",
       "            color:  #000000;\n",
       "        }    #T_d932f57a_e0ed_11ea_b347_5cc9d372dcb7row3_col5 {\n",
       "            background-color:  #cbd8ee;\n",
       "            color:  #000000;\n",
       "        }    #T_d932f57a_e0ed_11ea_b347_5cc9d372dcb7row3_col6 {\n",
       "            background-color:  #d7dce3;\n",
       "            color:  #000000;\n",
       "        }    #T_d932f57a_e0ed_11ea_b347_5cc9d372dcb7row3_col7 {\n",
       "            background-color:  #b9d0f9;\n",
       "            color:  #000000;\n",
       "        }    #T_d932f57a_e0ed_11ea_b347_5cc9d372dcb7row3_col8 {\n",
       "            background-color:  #a7c5fe;\n",
       "            color:  #000000;\n",
       "        }    #T_d932f57a_e0ed_11ea_b347_5cc9d372dcb7row3_col9 {\n",
       "            background-color:  #a7c5fe;\n",
       "            color:  #000000;\n",
       "        }    #T_d932f57a_e0ed_11ea_b347_5cc9d372dcb7row3_col10 {\n",
       "            background-color:  #799cf8;\n",
       "            color:  #000000;\n",
       "        }    #T_d932f57a_e0ed_11ea_b347_5cc9d372dcb7row3_col11 {\n",
       "            background-color:  #adc9fd;\n",
       "            color:  #000000;\n",
       "        }    #T_d932f57a_e0ed_11ea_b347_5cc9d372dcb7row3_col12 {\n",
       "            background-color:  #aec9fc;\n",
       "            color:  #000000;\n",
       "        }    #T_d932f57a_e0ed_11ea_b347_5cc9d372dcb7row4_col0 {\n",
       "            background-color:  #efcfbf;\n",
       "            color:  #000000;\n",
       "        }    #T_d932f57a_e0ed_11ea_b347_5cc9d372dcb7row4_col1 {\n",
       "            background-color:  #445acc;\n",
       "            color:  #f1f1f1;\n",
       "        }    #T_d932f57a_e0ed_11ea_b347_5cc9d372dcb7row4_col2 {\n",
       "            background-color:  #e16751;\n",
       "            color:  #000000;\n",
       "        }    #T_d932f57a_e0ed_11ea_b347_5cc9d372dcb7row4_col3 {\n",
       "            background-color:  #779af7;\n",
       "            color:  #000000;\n",
       "        }    #T_d932f57a_e0ed_11ea_b347_5cc9d372dcb7row4_col4 {\n",
       "            background-color:  #b40426;\n",
       "            color:  #f1f1f1;\n",
       "        }    #T_d932f57a_e0ed_11ea_b347_5cc9d372dcb7row4_col5 {\n",
       "            background-color:  #799cf8;\n",
       "            color:  #000000;\n",
       "        }    #T_d932f57a_e0ed_11ea_b347_5cc9d372dcb7row4_col6 {\n",
       "            background-color:  #e46e56;\n",
       "            color:  #000000;\n",
       "        }    #T_d932f57a_e0ed_11ea_b347_5cc9d372dcb7row4_col7 {\n",
       "            background-color:  #3b4cc0;\n",
       "            color:  #f1f1f1;\n",
       "        }    #T_d932f57a_e0ed_11ea_b347_5cc9d372dcb7row4_col8 {\n",
       "            background-color:  #f59d7e;\n",
       "            color:  #000000;\n",
       "        }    #T_d932f57a_e0ed_11ea_b347_5cc9d372dcb7row4_col9 {\n",
       "            background-color:  #f08b6e;\n",
       "            color:  #000000;\n",
       "        }    #T_d932f57a_e0ed_11ea_b347_5cc9d372dcb7row4_col10 {\n",
       "            background-color:  #c5d6f2;\n",
       "            color:  #000000;\n",
       "        }    #T_d932f57a_e0ed_11ea_b347_5cc9d372dcb7row4_col11 {\n",
       "            background-color:  #485fd1;\n",
       "            color:  #f1f1f1;\n",
       "        }    #T_d932f57a_e0ed_11ea_b347_5cc9d372dcb7row4_col12 {\n",
       "            background-color:  #f49a7b;\n",
       "            color:  #000000;\n",
       "        }    #T_d932f57a_e0ed_11ea_b347_5cc9d372dcb7row5_col0 {\n",
       "            background-color:  #5f7fe8;\n",
       "            color:  #000000;\n",
       "        }    #T_d932f57a_e0ed_11ea_b347_5cc9d372dcb7row5_col1 {\n",
       "            background-color:  #ebd3c6;\n",
       "            color:  #000000;\n",
       "        }    #T_d932f57a_e0ed_11ea_b347_5cc9d372dcb7row5_col2 {\n",
       "            background-color:  #7699f6;\n",
       "            color:  #000000;\n",
       "        }    #T_d932f57a_e0ed_11ea_b347_5cc9d372dcb7row5_col3 {\n",
       "            background-color:  #779af7;\n",
       "            color:  #000000;\n",
       "        }    #T_d932f57a_e0ed_11ea_b347_5cc9d372dcb7row5_col4 {\n",
       "            background-color:  #92b4fe;\n",
       "            color:  #000000;\n",
       "        }    #T_d932f57a_e0ed_11ea_b347_5cc9d372dcb7row5_col5 {\n",
       "            background-color:  #b40426;\n",
       "            color:  #f1f1f1;\n",
       "        }    #T_d932f57a_e0ed_11ea_b347_5cc9d372dcb7row5_col6 {\n",
       "            background-color:  #9bbcff;\n",
       "            color:  #000000;\n",
       "        }    #T_d932f57a_e0ed_11ea_b347_5cc9d372dcb7row5_col7 {\n",
       "            background-color:  #ead5c9;\n",
       "            color:  #000000;\n",
       "        }    #T_d932f57a_e0ed_11ea_b347_5cc9d372dcb7row5_col8 {\n",
       "            background-color:  #779af7;\n",
       "            color:  #000000;\n",
       "        }    #T_d932f57a_e0ed_11ea_b347_5cc9d372dcb7row5_col9 {\n",
       "            background-color:  #6c8ff1;\n",
       "            color:  #000000;\n",
       "        }    #T_d932f57a_e0ed_11ea_b347_5cc9d372dcb7row5_col10 {\n",
       "            background-color:  #4257c9;\n",
       "            color:  #f1f1f1;\n",
       "        }    #T_d932f57a_e0ed_11ea_b347_5cc9d372dcb7row5_col11 {\n",
       "            background-color:  #bfd3f6;\n",
       "            color:  #000000;\n",
       "        }    #T_d932f57a_e0ed_11ea_b347_5cc9d372dcb7row5_col12 {\n",
       "            background-color:  #3b4cc0;\n",
       "            color:  #f1f1f1;\n",
       "        }    #T_d932f57a_e0ed_11ea_b347_5cc9d372dcb7row6_col0 {\n",
       "            background-color:  #e5d8d1;\n",
       "            color:  #000000;\n",
       "        }    #T_d932f57a_e0ed_11ea_b347_5cc9d372dcb7row6_col1 {\n",
       "            background-color:  #3b4cc0;\n",
       "            color:  #f1f1f1;\n",
       "        }    #T_d932f57a_e0ed_11ea_b347_5cc9d372dcb7row6_col2 {\n",
       "            background-color:  #ef886b;\n",
       "            color:  #000000;\n",
       "        }    #T_d932f57a_e0ed_11ea_b347_5cc9d372dcb7row6_col3 {\n",
       "            background-color:  #7699f6;\n",
       "            color:  #000000;\n",
       "        }    #T_d932f57a_e0ed_11ea_b347_5cc9d372dcb7row6_col4 {\n",
       "            background-color:  #e36c55;\n",
       "            color:  #000000;\n",
       "        }    #T_d932f57a_e0ed_11ea_b347_5cc9d372dcb7row6_col5 {\n",
       "            background-color:  #86a9fc;\n",
       "            color:  #000000;\n",
       "        }    #T_d932f57a_e0ed_11ea_b347_5cc9d372dcb7row6_col6 {\n",
       "            background-color:  #b40426;\n",
       "            color:  #f1f1f1;\n",
       "        }    #T_d932f57a_e0ed_11ea_b347_5cc9d372dcb7row6_col7 {\n",
       "            background-color:  #3e51c5;\n",
       "            color:  #f1f1f1;\n",
       "        }    #T_d932f57a_e0ed_11ea_b347_5cc9d372dcb7row6_col8 {\n",
       "            background-color:  #f5c1a9;\n",
       "            color:  #000000;\n",
       "        }    #T_d932f57a_e0ed_11ea_b347_5cc9d372dcb7row6_col9 {\n",
       "            background-color:  #f7b497;\n",
       "            color:  #000000;\n",
       "        }    #T_d932f57a_e0ed_11ea_b347_5cc9d372dcb7row6_col10 {\n",
       "            background-color:  #d5dbe5;\n",
       "            color:  #000000;\n",
       "        }    #T_d932f57a_e0ed_11ea_b347_5cc9d372dcb7row6_col11 {\n",
       "            background-color:  #5f7fe8;\n",
       "            color:  #000000;\n",
       "        }    #T_d932f57a_e0ed_11ea_b347_5cc9d372dcb7row6_col12 {\n",
       "            background-color:  #f4987a;\n",
       "            color:  #000000;\n",
       "        }    #T_d932f57a_e0ed_11ea_b347_5cc9d372dcb7row7_col0 {\n",
       "            background-color:  #3b4cc0;\n",
       "            color:  #f1f1f1;\n",
       "        }    #T_d932f57a_e0ed_11ea_b347_5cc9d372dcb7row7_col1 {\n",
       "            background-color:  #f08a6c;\n",
       "            color:  #000000;\n",
       "        }    #T_d932f57a_e0ed_11ea_b347_5cc9d372dcb7row7_col2 {\n",
       "            background-color:  #3b4cc0;\n",
       "            color:  #f1f1f1;\n",
       "        }    #T_d932f57a_e0ed_11ea_b347_5cc9d372dcb7row7_col3 {\n",
       "            background-color:  #4055c8;\n",
       "            color:  #f1f1f1;\n",
       "        }    #T_d932f57a_e0ed_11ea_b347_5cc9d372dcb7row7_col4 {\n",
       "            background-color:  #3b4cc0;\n",
       "            color:  #f1f1f1;\n",
       "        }    #T_d932f57a_e0ed_11ea_b347_5cc9d372dcb7row7_col5 {\n",
       "            background-color:  #dedcdb;\n",
       "            color:  #000000;\n",
       "        }    #T_d932f57a_e0ed_11ea_b347_5cc9d372dcb7row7_col6 {\n",
       "            background-color:  #3b4cc0;\n",
       "            color:  #f1f1f1;\n",
       "        }    #T_d932f57a_e0ed_11ea_b347_5cc9d372dcb7row7_col7 {\n",
       "            background-color:  #b40426;\n",
       "            color:  #f1f1f1;\n",
       "        }    #T_d932f57a_e0ed_11ea_b347_5cc9d372dcb7row7_col8 {\n",
       "            background-color:  #3b4cc0;\n",
       "            color:  #f1f1f1;\n",
       "        }    #T_d932f57a_e0ed_11ea_b347_5cc9d372dcb7row7_col9 {\n",
       "            background-color:  #3b4cc0;\n",
       "            color:  #f1f1f1;\n",
       "        }    #T_d932f57a_e0ed_11ea_b347_5cc9d372dcb7row7_col10 {\n",
       "            background-color:  #5e7de7;\n",
       "            color:  #000000;\n",
       "        }    #T_d932f57a_e0ed_11ea_b347_5cc9d372dcb7row7_col11 {\n",
       "            background-color:  #dfdbd9;\n",
       "            color:  #000000;\n",
       "        }    #T_d932f57a_e0ed_11ea_b347_5cc9d372dcb7row7_col12 {\n",
       "            background-color:  #506bda;\n",
       "            color:  #000000;\n",
       "        }    #T_d932f57a_e0ed_11ea_b347_5cc9d372dcb7row8_col0 {\n",
       "            background-color:  #f6a283;\n",
       "            color:  #000000;\n",
       "        }    #T_d932f57a_e0ed_11ea_b347_5cc9d372dcb7row8_col1 {\n",
       "            background-color:  #6f92f3;\n",
       "            color:  #000000;\n",
       "        }    #T_d932f57a_e0ed_11ea_b347_5cc9d372dcb7row8_col2 {\n",
       "            background-color:  #f39475;\n",
       "            color:  #000000;\n",
       "        }    #T_d932f57a_e0ed_11ea_b347_5cc9d372dcb7row8_col3 {\n",
       "            background-color:  #5a78e4;\n",
       "            color:  #000000;\n",
       "        }    #T_d932f57a_e0ed_11ea_b347_5cc9d372dcb7row8_col4 {\n",
       "            background-color:  #f18d6f;\n",
       "            color:  #000000;\n",
       "        }    #T_d932f57a_e0ed_11ea_b347_5cc9d372dcb7row8_col5 {\n",
       "            background-color:  #8db0fe;\n",
       "            color:  #000000;\n",
       "        }    #T_d932f57a_e0ed_11ea_b347_5cc9d372dcb7row8_col6 {\n",
       "            background-color:  #f7b093;\n",
       "            color:  #000000;\n",
       "        }    #T_d932f57a_e0ed_11ea_b347_5cc9d372dcb7row8_col7 {\n",
       "            background-color:  #6b8df0;\n",
       "            color:  #000000;\n",
       "        }    #T_d932f57a_e0ed_11ea_b347_5cc9d372dcb7row8_col8 {\n",
       "            background-color:  #b40426;\n",
       "            color:  #f1f1f1;\n",
       "        }    #T_d932f57a_e0ed_11ea_b347_5cc9d372dcb7row8_col9 {\n",
       "            background-color:  #c83836;\n",
       "            color:  #f1f1f1;\n",
       "        }    #T_d932f57a_e0ed_11ea_b347_5cc9d372dcb7row8_col10 {\n",
       "            background-color:  #f3c7b1;\n",
       "            color:  #000000;\n",
       "        }    #T_d932f57a_e0ed_11ea_b347_5cc9d372dcb7row8_col11 {\n",
       "            background-color:  #3b4cc0;\n",
       "            color:  #f1f1f1;\n",
       "        }    #T_d932f57a_e0ed_11ea_b347_5cc9d372dcb7row8_col12 {\n",
       "            background-color:  #f7b396;\n",
       "            color:  #000000;\n",
       "        }    #T_d932f57a_e0ed_11ea_b347_5cc9d372dcb7row9_col0 {\n",
       "            background-color:  #f7ad90;\n",
       "            color:  #000000;\n",
       "        }    #T_d932f57a_e0ed_11ea_b347_5cc9d372dcb7row9_col1 {\n",
       "            background-color:  #6e90f2;\n",
       "            color:  #000000;\n",
       "        }    #T_d932f57a_e0ed_11ea_b347_5cc9d372dcb7row9_col2 {\n",
       "            background-color:  #e67259;\n",
       "            color:  #000000;\n",
       "        }    #T_d932f57a_e0ed_11ea_b347_5cc9d372dcb7row9_col3 {\n",
       "            background-color:  #516ddb;\n",
       "            color:  #000000;\n",
       "        }    #T_d932f57a_e0ed_11ea_b347_5cc9d372dcb7row9_col4 {\n",
       "            background-color:  #ec7f63;\n",
       "            color:  #000000;\n",
       "        }    #T_d932f57a_e0ed_11ea_b347_5cc9d372dcb7row9_col5 {\n",
       "            background-color:  #7b9ff9;\n",
       "            color:  #000000;\n",
       "        }    #T_d932f57a_e0ed_11ea_b347_5cc9d372dcb7row9_col6 {\n",
       "            background-color:  #f7a688;\n",
       "            color:  #000000;\n",
       "        }    #T_d932f57a_e0ed_11ea_b347_5cc9d372dcb7row9_col7 {\n",
       "            background-color:  #6384eb;\n",
       "            color:  #000000;\n",
       "        }    #T_d932f57a_e0ed_11ea_b347_5cc9d372dcb7row9_col8 {\n",
       "            background-color:  #ca3b37;\n",
       "            color:  #f1f1f1;\n",
       "        }    #T_d932f57a_e0ed_11ea_b347_5cc9d372dcb7row9_col9 {\n",
       "            background-color:  #b40426;\n",
       "            color:  #f1f1f1;\n",
       "        }    #T_d932f57a_e0ed_11ea_b347_5cc9d372dcb7row9_col10 {\n",
       "            background-color:  #f3c8b2;\n",
       "            color:  #000000;\n",
       "        }    #T_d932f57a_e0ed_11ea_b347_5cc9d372dcb7row9_col11 {\n",
       "            background-color:  #3b4cc0;\n",
       "            color:  #f1f1f1;\n",
       "        }    #T_d932f57a_e0ed_11ea_b347_5cc9d372dcb7row9_col12 {\n",
       "            background-color:  #f7a688;\n",
       "            color:  #000000;\n",
       "        }    #T_d932f57a_e0ed_11ea_b347_5cc9d372dcb7row10_col0 {\n",
       "            background-color:  #d9dce1;\n",
       "            color:  #000000;\n",
       "        }    #T_d932f57a_e0ed_11ea_b347_5cc9d372dcb7row10_col1 {\n",
       "            background-color:  #5e7de7;\n",
       "            color:  #000000;\n",
       "        }    #T_d932f57a_e0ed_11ea_b347_5cc9d372dcb7row10_col2 {\n",
       "            background-color:  #f5c0a7;\n",
       "            color:  #000000;\n",
       "        }    #T_d932f57a_e0ed_11ea_b347_5cc9d372dcb7row10_col3 {\n",
       "            background-color:  #3b4cc0;\n",
       "            color:  #f1f1f1;\n",
       "        }    #T_d932f57a_e0ed_11ea_b347_5cc9d372dcb7row10_col4 {\n",
       "            background-color:  #e7d7ce;\n",
       "            color:  #000000;\n",
       "        }    #T_d932f57a_e0ed_11ea_b347_5cc9d372dcb7row10_col5 {\n",
       "            background-color:  #6c8ff1;\n",
       "            color:  #000000;\n",
       "        }    #T_d932f57a_e0ed_11ea_b347_5cc9d372dcb7row10_col6 {\n",
       "            background-color:  #eed0c0;\n",
       "            color:  #000000;\n",
       "        }    #T_d932f57a_e0ed_11ea_b347_5cc9d372dcb7row10_col7 {\n",
       "            background-color:  #9fbfff;\n",
       "            color:  #000000;\n",
       "        }    #T_d932f57a_e0ed_11ea_b347_5cc9d372dcb7row10_col8 {\n",
       "            background-color:  #f6bfa6;\n",
       "            color:  #000000;\n",
       "        }    #T_d932f57a_e0ed_11ea_b347_5cc9d372dcb7row10_col9 {\n",
       "            background-color:  #f6bda2;\n",
       "            color:  #000000;\n",
       "        }    #T_d932f57a_e0ed_11ea_b347_5cc9d372dcb7row10_col10 {\n",
       "            background-color:  #b40426;\n",
       "            color:  #f1f1f1;\n",
       "        }    #T_d932f57a_e0ed_11ea_b347_5cc9d372dcb7row10_col11 {\n",
       "            background-color:  #7699f6;\n",
       "            color:  #000000;\n",
       "        }    #T_d932f57a_e0ed_11ea_b347_5cc9d372dcb7row10_col12 {\n",
       "            background-color:  #f3c8b2;\n",
       "            color:  #000000;\n",
       "        }    #T_d932f57a_e0ed_11ea_b347_5cc9d372dcb7row11_col0 {\n",
       "            background-color:  #3b4cc0;\n",
       "            color:  #f1f1f1;\n",
       "        }    #T_d932f57a_e0ed_11ea_b347_5cc9d372dcb7row11_col1 {\n",
       "            background-color:  #d6dce4;\n",
       "            color:  #000000;\n",
       "        }    #T_d932f57a_e0ed_11ea_b347_5cc9d372dcb7row11_col2 {\n",
       "            background-color:  #7da0f9;\n",
       "            color:  #000000;\n",
       "        }    #T_d932f57a_e0ed_11ea_b347_5cc9d372dcb7row11_col3 {\n",
       "            background-color:  #6a8bef;\n",
       "            color:  #000000;\n",
       "        }    #T_d932f57a_e0ed_11ea_b347_5cc9d372dcb7row11_col4 {\n",
       "            background-color:  #82a6fb;\n",
       "            color:  #000000;\n",
       "        }    #T_d932f57a_e0ed_11ea_b347_5cc9d372dcb7row11_col5 {\n",
       "            background-color:  #d2dbe8;\n",
       "            color:  #000000;\n",
       "        }    #T_d932f57a_e0ed_11ea_b347_5cc9d372dcb7row11_col6 {\n",
       "            background-color:  #94b6ff;\n",
       "            color:  #000000;\n",
       "        }    #T_d932f57a_e0ed_11ea_b347_5cc9d372dcb7row11_col7 {\n",
       "            background-color:  #f2cbb7;\n",
       "            color:  #000000;\n",
       "        }    #T_d932f57a_e0ed_11ea_b347_5cc9d372dcb7row11_col8 {\n",
       "            background-color:  #445acc;\n",
       "            color:  #f1f1f1;\n",
       "        }    #T_d932f57a_e0ed_11ea_b347_5cc9d372dcb7row11_col9 {\n",
       "            background-color:  #4c66d6;\n",
       "            color:  #000000;\n",
       "        }    #T_d932f57a_e0ed_11ea_b347_5cc9d372dcb7row11_col10 {\n",
       "            background-color:  #6b8df0;\n",
       "            color:  #000000;\n",
       "        }    #T_d932f57a_e0ed_11ea_b347_5cc9d372dcb7row11_col11 {\n",
       "            background-color:  #b40426;\n",
       "            color:  #f1f1f1;\n",
       "        }    #T_d932f57a_e0ed_11ea_b347_5cc9d372dcb7row11_col12 {\n",
       "            background-color:  #6b8df0;\n",
       "            color:  #000000;\n",
       "        }    #T_d932f57a_e0ed_11ea_b347_5cc9d372dcb7row12_col0 {\n",
       "            background-color:  #f2c9b4;\n",
       "            color:  #000000;\n",
       "        }    #T_d932f57a_e0ed_11ea_b347_5cc9d372dcb7row12_col1 {\n",
       "            background-color:  #5977e3;\n",
       "            color:  #000000;\n",
       "        }    #T_d932f57a_e0ed_11ea_b347_5cc9d372dcb7row12_col2 {\n",
       "            background-color:  #f29274;\n",
       "            color:  #000000;\n",
       "        }    #T_d932f57a_e0ed_11ea_b347_5cc9d372dcb7row12_col3 {\n",
       "            background-color:  #4c66d6;\n",
       "            color:  #000000;\n",
       "        }    #T_d932f57a_e0ed_11ea_b347_5cc9d372dcb7row12_col4 {\n",
       "            background-color:  #f29274;\n",
       "            color:  #000000;\n",
       "        }    #T_d932f57a_e0ed_11ea_b347_5cc9d372dcb7row12_col5 {\n",
       "            background-color:  #3b4cc0;\n",
       "            color:  #f1f1f1;\n",
       "        }    #T_d932f57a_e0ed_11ea_b347_5cc9d372dcb7row12_col6 {\n",
       "            background-color:  #f29072;\n",
       "            color:  #000000;\n",
       "        }    #T_d932f57a_e0ed_11ea_b347_5cc9d372dcb7row12_col7 {\n",
       "            background-color:  #6b8df0;\n",
       "            color:  #000000;\n",
       "        }    #T_d932f57a_e0ed_11ea_b347_5cc9d372dcb7row12_col8 {\n",
       "            background-color:  #f7ba9f;\n",
       "            color:  #000000;\n",
       "        }    #T_d932f57a_e0ed_11ea_b347_5cc9d372dcb7row12_col9 {\n",
       "            background-color:  #f7ac8e;\n",
       "            color:  #000000;\n",
       "        }    #T_d932f57a_e0ed_11ea_b347_5cc9d372dcb7row12_col10 {\n",
       "            background-color:  #e9d5cb;\n",
       "            color:  #000000;\n",
       "        }    #T_d932f57a_e0ed_11ea_b347_5cc9d372dcb7row12_col11 {\n",
       "            background-color:  #4a63d3;\n",
       "            color:  #f1f1f1;\n",
       "        }    #T_d932f57a_e0ed_11ea_b347_5cc9d372dcb7row12_col12 {\n",
       "            background-color:  #b40426;\n",
       "            color:  #f1f1f1;\n",
       "        }</style><table id=\"T_d932f57a_e0ed_11ea_b347_5cc9d372dcb7\" ><thead>    <tr>        <th class=\"blank level0\" ></th>        <th class=\"col_heading level0 col0\" >CRIM</th>        <th class=\"col_heading level0 col1\" >ZN</th>        <th class=\"col_heading level0 col2\" >INDUS</th>        <th class=\"col_heading level0 col3\" >CHAS</th>        <th class=\"col_heading level0 col4\" >NOX</th>        <th class=\"col_heading level0 col5\" >RM</th>        <th class=\"col_heading level0 col6\" >AGE</th>        <th class=\"col_heading level0 col7\" >DIS</th>        <th class=\"col_heading level0 col8\" >RAD</th>        <th class=\"col_heading level0 col9\" >TAX</th>        <th class=\"col_heading level0 col10\" >PTRATIO</th>        <th class=\"col_heading level0 col11\" >B</th>        <th class=\"col_heading level0 col12\" >LSTAT</th>    </tr></thead><tbody>\n",
       "                <tr>\n",
       "                        <th id=\"T_d932f57a_e0ed_11ea_b347_5cc9d372dcb7level0_row0\" class=\"row_heading level0 row0\" >CRIM</th>\n",
       "                        <td id=\"T_d932f57a_e0ed_11ea_b347_5cc9d372dcb7row0_col0\" class=\"data row0 col0\" >1.000000</td>\n",
       "                        <td id=\"T_d932f57a_e0ed_11ea_b347_5cc9d372dcb7row0_col1\" class=\"data row0 col1\" >-0.200469</td>\n",
       "                        <td id=\"T_d932f57a_e0ed_11ea_b347_5cc9d372dcb7row0_col2\" class=\"data row0 col2\" >0.406583</td>\n",
       "                        <td id=\"T_d932f57a_e0ed_11ea_b347_5cc9d372dcb7row0_col3\" class=\"data row0 col3\" >-0.055892</td>\n",
       "                        <td id=\"T_d932f57a_e0ed_11ea_b347_5cc9d372dcb7row0_col4\" class=\"data row0 col4\" >0.420972</td>\n",
       "                        <td id=\"T_d932f57a_e0ed_11ea_b347_5cc9d372dcb7row0_col5\" class=\"data row0 col5\" >-0.219247</td>\n",
       "                        <td id=\"T_d932f57a_e0ed_11ea_b347_5cc9d372dcb7row0_col6\" class=\"data row0 col6\" >0.352734</td>\n",
       "                        <td id=\"T_d932f57a_e0ed_11ea_b347_5cc9d372dcb7row0_col7\" class=\"data row0 col7\" >-0.379670</td>\n",
       "                        <td id=\"T_d932f57a_e0ed_11ea_b347_5cc9d372dcb7row0_col8\" class=\"data row0 col8\" >0.625505</td>\n",
       "                        <td id=\"T_d932f57a_e0ed_11ea_b347_5cc9d372dcb7row0_col9\" class=\"data row0 col9\" >0.582764</td>\n",
       "                        <td id=\"T_d932f57a_e0ed_11ea_b347_5cc9d372dcb7row0_col10\" class=\"data row0 col10\" >0.289946</td>\n",
       "                        <td id=\"T_d932f57a_e0ed_11ea_b347_5cc9d372dcb7row0_col11\" class=\"data row0 col11\" >-0.385064</td>\n",
       "                        <td id=\"T_d932f57a_e0ed_11ea_b347_5cc9d372dcb7row0_col12\" class=\"data row0 col12\" >0.455621</td>\n",
       "            </tr>\n",
       "            <tr>\n",
       "                        <th id=\"T_d932f57a_e0ed_11ea_b347_5cc9d372dcb7level0_row1\" class=\"row_heading level0 row1\" >ZN</th>\n",
       "                        <td id=\"T_d932f57a_e0ed_11ea_b347_5cc9d372dcb7row1_col0\" class=\"data row1 col0\" >-0.200469</td>\n",
       "                        <td id=\"T_d932f57a_e0ed_11ea_b347_5cc9d372dcb7row1_col1\" class=\"data row1 col1\" >1.000000</td>\n",
       "                        <td id=\"T_d932f57a_e0ed_11ea_b347_5cc9d372dcb7row1_col2\" class=\"data row1 col2\" >-0.533828</td>\n",
       "                        <td id=\"T_d932f57a_e0ed_11ea_b347_5cc9d372dcb7row1_col3\" class=\"data row1 col3\" >-0.042697</td>\n",
       "                        <td id=\"T_d932f57a_e0ed_11ea_b347_5cc9d372dcb7row1_col4\" class=\"data row1 col4\" >-0.516604</td>\n",
       "                        <td id=\"T_d932f57a_e0ed_11ea_b347_5cc9d372dcb7row1_col5\" class=\"data row1 col5\" >0.311991</td>\n",
       "                        <td id=\"T_d932f57a_e0ed_11ea_b347_5cc9d372dcb7row1_col6\" class=\"data row1 col6\" >-0.569537</td>\n",
       "                        <td id=\"T_d932f57a_e0ed_11ea_b347_5cc9d372dcb7row1_col7\" class=\"data row1 col7\" >0.664408</td>\n",
       "                        <td id=\"T_d932f57a_e0ed_11ea_b347_5cc9d372dcb7row1_col8\" class=\"data row1 col8\" >-0.311948</td>\n",
       "                        <td id=\"T_d932f57a_e0ed_11ea_b347_5cc9d372dcb7row1_col9\" class=\"data row1 col9\" >-0.314563</td>\n",
       "                        <td id=\"T_d932f57a_e0ed_11ea_b347_5cc9d372dcb7row1_col10\" class=\"data row1 col10\" >-0.391679</td>\n",
       "                        <td id=\"T_d932f57a_e0ed_11ea_b347_5cc9d372dcb7row1_col11\" class=\"data row1 col11\" >0.175520</td>\n",
       "                        <td id=\"T_d932f57a_e0ed_11ea_b347_5cc9d372dcb7row1_col12\" class=\"data row1 col12\" >-0.412995</td>\n",
       "            </tr>\n",
       "            <tr>\n",
       "                        <th id=\"T_d932f57a_e0ed_11ea_b347_5cc9d372dcb7level0_row2\" class=\"row_heading level0 row2\" >INDUS</th>\n",
       "                        <td id=\"T_d932f57a_e0ed_11ea_b347_5cc9d372dcb7row2_col0\" class=\"data row2 col0\" >0.406583</td>\n",
       "                        <td id=\"T_d932f57a_e0ed_11ea_b347_5cc9d372dcb7row2_col1\" class=\"data row2 col1\" >-0.533828</td>\n",
       "                        <td id=\"T_d932f57a_e0ed_11ea_b347_5cc9d372dcb7row2_col2\" class=\"data row2 col2\" >1.000000</td>\n",
       "                        <td id=\"T_d932f57a_e0ed_11ea_b347_5cc9d372dcb7row2_col3\" class=\"data row2 col3\" >0.062938</td>\n",
       "                        <td id=\"T_d932f57a_e0ed_11ea_b347_5cc9d372dcb7row2_col4\" class=\"data row2 col4\" >0.763651</td>\n",
       "                        <td id=\"T_d932f57a_e0ed_11ea_b347_5cc9d372dcb7row2_col5\" class=\"data row2 col5\" >-0.391676</td>\n",
       "                        <td id=\"T_d932f57a_e0ed_11ea_b347_5cc9d372dcb7row2_col6\" class=\"data row2 col6\" >0.644779</td>\n",
       "                        <td id=\"T_d932f57a_e0ed_11ea_b347_5cc9d372dcb7row2_col7\" class=\"data row2 col7\" >-0.708027</td>\n",
       "                        <td id=\"T_d932f57a_e0ed_11ea_b347_5cc9d372dcb7row2_col8\" class=\"data row2 col8\" >0.595129</td>\n",
       "                        <td id=\"T_d932f57a_e0ed_11ea_b347_5cc9d372dcb7row2_col9\" class=\"data row2 col9\" >0.720760</td>\n",
       "                        <td id=\"T_d932f57a_e0ed_11ea_b347_5cc9d372dcb7row2_col10\" class=\"data row2 col10\" >0.383248</td>\n",
       "                        <td id=\"T_d932f57a_e0ed_11ea_b347_5cc9d372dcb7row2_col11\" class=\"data row2 col11\" >-0.356977</td>\n",
       "                        <td id=\"T_d932f57a_e0ed_11ea_b347_5cc9d372dcb7row2_col12\" class=\"data row2 col12\" >0.603800</td>\n",
       "            </tr>\n",
       "            <tr>\n",
       "                        <th id=\"T_d932f57a_e0ed_11ea_b347_5cc9d372dcb7level0_row3\" class=\"row_heading level0 row3\" >CHAS</th>\n",
       "                        <td id=\"T_d932f57a_e0ed_11ea_b347_5cc9d372dcb7row3_col0\" class=\"data row3 col0\" >-0.055892</td>\n",
       "                        <td id=\"T_d932f57a_e0ed_11ea_b347_5cc9d372dcb7row3_col1\" class=\"data row3 col1\" >-0.042697</td>\n",
       "                        <td id=\"T_d932f57a_e0ed_11ea_b347_5cc9d372dcb7row3_col2\" class=\"data row3 col2\" >0.062938</td>\n",
       "                        <td id=\"T_d932f57a_e0ed_11ea_b347_5cc9d372dcb7row3_col3\" class=\"data row3 col3\" >1.000000</td>\n",
       "                        <td id=\"T_d932f57a_e0ed_11ea_b347_5cc9d372dcb7row3_col4\" class=\"data row3 col4\" >0.091203</td>\n",
       "                        <td id=\"T_d932f57a_e0ed_11ea_b347_5cc9d372dcb7row3_col5\" class=\"data row3 col5\" >0.091251</td>\n",
       "                        <td id=\"T_d932f57a_e0ed_11ea_b347_5cc9d372dcb7row3_col6\" class=\"data row3 col6\" >0.086518</td>\n",
       "                        <td id=\"T_d932f57a_e0ed_11ea_b347_5cc9d372dcb7row3_col7\" class=\"data row3 col7\" >-0.099176</td>\n",
       "                        <td id=\"T_d932f57a_e0ed_11ea_b347_5cc9d372dcb7row3_col8\" class=\"data row3 col8\" >-0.007368</td>\n",
       "                        <td id=\"T_d932f57a_e0ed_11ea_b347_5cc9d372dcb7row3_col9\" class=\"data row3 col9\" >-0.035587</td>\n",
       "                        <td id=\"T_d932f57a_e0ed_11ea_b347_5cc9d372dcb7row3_col10\" class=\"data row3 col10\" >-0.121515</td>\n",
       "                        <td id=\"T_d932f57a_e0ed_11ea_b347_5cc9d372dcb7row3_col11\" class=\"data row3 col11\" >0.048788</td>\n",
       "                        <td id=\"T_d932f57a_e0ed_11ea_b347_5cc9d372dcb7row3_col12\" class=\"data row3 col12\" >-0.053929</td>\n",
       "            </tr>\n",
       "            <tr>\n",
       "                        <th id=\"T_d932f57a_e0ed_11ea_b347_5cc9d372dcb7level0_row4\" class=\"row_heading level0 row4\" >NOX</th>\n",
       "                        <td id=\"T_d932f57a_e0ed_11ea_b347_5cc9d372dcb7row4_col0\" class=\"data row4 col0\" >0.420972</td>\n",
       "                        <td id=\"T_d932f57a_e0ed_11ea_b347_5cc9d372dcb7row4_col1\" class=\"data row4 col1\" >-0.516604</td>\n",
       "                        <td id=\"T_d932f57a_e0ed_11ea_b347_5cc9d372dcb7row4_col2\" class=\"data row4 col2\" >0.763651</td>\n",
       "                        <td id=\"T_d932f57a_e0ed_11ea_b347_5cc9d372dcb7row4_col3\" class=\"data row4 col3\" >0.091203</td>\n",
       "                        <td id=\"T_d932f57a_e0ed_11ea_b347_5cc9d372dcb7row4_col4\" class=\"data row4 col4\" >1.000000</td>\n",
       "                        <td id=\"T_d932f57a_e0ed_11ea_b347_5cc9d372dcb7row4_col5\" class=\"data row4 col5\" >-0.302188</td>\n",
       "                        <td id=\"T_d932f57a_e0ed_11ea_b347_5cc9d372dcb7row4_col6\" class=\"data row4 col6\" >0.731470</td>\n",
       "                        <td id=\"T_d932f57a_e0ed_11ea_b347_5cc9d372dcb7row4_col7\" class=\"data row4 col7\" >-0.769230</td>\n",
       "                        <td id=\"T_d932f57a_e0ed_11ea_b347_5cc9d372dcb7row4_col8\" class=\"data row4 col8\" >0.611441</td>\n",
       "                        <td id=\"T_d932f57a_e0ed_11ea_b347_5cc9d372dcb7row4_col9\" class=\"data row4 col9\" >0.668023</td>\n",
       "                        <td id=\"T_d932f57a_e0ed_11ea_b347_5cc9d372dcb7row4_col10\" class=\"data row4 col10\" >0.188933</td>\n",
       "                        <td id=\"T_d932f57a_e0ed_11ea_b347_5cc9d372dcb7row4_col11\" class=\"data row4 col11\" >-0.380051</td>\n",
       "                        <td id=\"T_d932f57a_e0ed_11ea_b347_5cc9d372dcb7row4_col12\" class=\"data row4 col12\" >0.590879</td>\n",
       "            </tr>\n",
       "            <tr>\n",
       "                        <th id=\"T_d932f57a_e0ed_11ea_b347_5cc9d372dcb7level0_row5\" class=\"row_heading level0 row5\" >RM</th>\n",
       "                        <td id=\"T_d932f57a_e0ed_11ea_b347_5cc9d372dcb7row5_col0\" class=\"data row5 col0\" >-0.219247</td>\n",
       "                        <td id=\"T_d932f57a_e0ed_11ea_b347_5cc9d372dcb7row5_col1\" class=\"data row5 col1\" >0.311991</td>\n",
       "                        <td id=\"T_d932f57a_e0ed_11ea_b347_5cc9d372dcb7row5_col2\" class=\"data row5 col2\" >-0.391676</td>\n",
       "                        <td id=\"T_d932f57a_e0ed_11ea_b347_5cc9d372dcb7row5_col3\" class=\"data row5 col3\" >0.091251</td>\n",
       "                        <td id=\"T_d932f57a_e0ed_11ea_b347_5cc9d372dcb7row5_col4\" class=\"data row5 col4\" >-0.302188</td>\n",
       "                        <td id=\"T_d932f57a_e0ed_11ea_b347_5cc9d372dcb7row5_col5\" class=\"data row5 col5\" >1.000000</td>\n",
       "                        <td id=\"T_d932f57a_e0ed_11ea_b347_5cc9d372dcb7row5_col6\" class=\"data row5 col6\" >-0.240265</td>\n",
       "                        <td id=\"T_d932f57a_e0ed_11ea_b347_5cc9d372dcb7row5_col7\" class=\"data row5 col7\" >0.205246</td>\n",
       "                        <td id=\"T_d932f57a_e0ed_11ea_b347_5cc9d372dcb7row5_col8\" class=\"data row5 col8\" >-0.209847</td>\n",
       "                        <td id=\"T_d932f57a_e0ed_11ea_b347_5cc9d372dcb7row5_col9\" class=\"data row5 col9\" >-0.292048</td>\n",
       "                        <td id=\"T_d932f57a_e0ed_11ea_b347_5cc9d372dcb7row5_col10\" class=\"data row5 col10\" >-0.355501</td>\n",
       "                        <td id=\"T_d932f57a_e0ed_11ea_b347_5cc9d372dcb7row5_col11\" class=\"data row5 col11\" >0.128069</td>\n",
       "                        <td id=\"T_d932f57a_e0ed_11ea_b347_5cc9d372dcb7row5_col12\" class=\"data row5 col12\" >-0.613808</td>\n",
       "            </tr>\n",
       "            <tr>\n",
       "                        <th id=\"T_d932f57a_e0ed_11ea_b347_5cc9d372dcb7level0_row6\" class=\"row_heading level0 row6\" >AGE</th>\n",
       "                        <td id=\"T_d932f57a_e0ed_11ea_b347_5cc9d372dcb7row6_col0\" class=\"data row6 col0\" >0.352734</td>\n",
       "                        <td id=\"T_d932f57a_e0ed_11ea_b347_5cc9d372dcb7row6_col1\" class=\"data row6 col1\" >-0.569537</td>\n",
       "                        <td id=\"T_d932f57a_e0ed_11ea_b347_5cc9d372dcb7row6_col2\" class=\"data row6 col2\" >0.644779</td>\n",
       "                        <td id=\"T_d932f57a_e0ed_11ea_b347_5cc9d372dcb7row6_col3\" class=\"data row6 col3\" >0.086518</td>\n",
       "                        <td id=\"T_d932f57a_e0ed_11ea_b347_5cc9d372dcb7row6_col4\" class=\"data row6 col4\" >0.731470</td>\n",
       "                        <td id=\"T_d932f57a_e0ed_11ea_b347_5cc9d372dcb7row6_col5\" class=\"data row6 col5\" >-0.240265</td>\n",
       "                        <td id=\"T_d932f57a_e0ed_11ea_b347_5cc9d372dcb7row6_col6\" class=\"data row6 col6\" >1.000000</td>\n",
       "                        <td id=\"T_d932f57a_e0ed_11ea_b347_5cc9d372dcb7row6_col7\" class=\"data row6 col7\" >-0.747881</td>\n",
       "                        <td id=\"T_d932f57a_e0ed_11ea_b347_5cc9d372dcb7row6_col8\" class=\"data row6 col8\" >0.456022</td>\n",
       "                        <td id=\"T_d932f57a_e0ed_11ea_b347_5cc9d372dcb7row6_col9\" class=\"data row6 col9\" >0.506456</td>\n",
       "                        <td id=\"T_d932f57a_e0ed_11ea_b347_5cc9d372dcb7row6_col10\" class=\"data row6 col10\" >0.261515</td>\n",
       "                        <td id=\"T_d932f57a_e0ed_11ea_b347_5cc9d372dcb7row6_col11\" class=\"data row6 col11\" >-0.273534</td>\n",
       "                        <td id=\"T_d932f57a_e0ed_11ea_b347_5cc9d372dcb7row6_col12\" class=\"data row6 col12\" >0.602339</td>\n",
       "            </tr>\n",
       "            <tr>\n",
       "                        <th id=\"T_d932f57a_e0ed_11ea_b347_5cc9d372dcb7level0_row7\" class=\"row_heading level0 row7\" >DIS</th>\n",
       "                        <td id=\"T_d932f57a_e0ed_11ea_b347_5cc9d372dcb7row7_col0\" class=\"data row7 col0\" >-0.379670</td>\n",
       "                        <td id=\"T_d932f57a_e0ed_11ea_b347_5cc9d372dcb7row7_col1\" class=\"data row7 col1\" >0.664408</td>\n",
       "                        <td id=\"T_d932f57a_e0ed_11ea_b347_5cc9d372dcb7row7_col2\" class=\"data row7 col2\" >-0.708027</td>\n",
       "                        <td id=\"T_d932f57a_e0ed_11ea_b347_5cc9d372dcb7row7_col3\" class=\"data row7 col3\" >-0.099176</td>\n",
       "                        <td id=\"T_d932f57a_e0ed_11ea_b347_5cc9d372dcb7row7_col4\" class=\"data row7 col4\" >-0.769230</td>\n",
       "                        <td id=\"T_d932f57a_e0ed_11ea_b347_5cc9d372dcb7row7_col5\" class=\"data row7 col5\" >0.205246</td>\n",
       "                        <td id=\"T_d932f57a_e0ed_11ea_b347_5cc9d372dcb7row7_col6\" class=\"data row7 col6\" >-0.747881</td>\n",
       "                        <td id=\"T_d932f57a_e0ed_11ea_b347_5cc9d372dcb7row7_col7\" class=\"data row7 col7\" >1.000000</td>\n",
       "                        <td id=\"T_d932f57a_e0ed_11ea_b347_5cc9d372dcb7row7_col8\" class=\"data row7 col8\" >-0.494588</td>\n",
       "                        <td id=\"T_d932f57a_e0ed_11ea_b347_5cc9d372dcb7row7_col9\" class=\"data row7 col9\" >-0.534432</td>\n",
       "                        <td id=\"T_d932f57a_e0ed_11ea_b347_5cc9d372dcb7row7_col10\" class=\"data row7 col10\" >-0.232471</td>\n",
       "                        <td id=\"T_d932f57a_e0ed_11ea_b347_5cc9d372dcb7row7_col11\" class=\"data row7 col11\" >0.291512</td>\n",
       "                        <td id=\"T_d932f57a_e0ed_11ea_b347_5cc9d372dcb7row7_col12\" class=\"data row7 col12\" >-0.496996</td>\n",
       "            </tr>\n",
       "            <tr>\n",
       "                        <th id=\"T_d932f57a_e0ed_11ea_b347_5cc9d372dcb7level0_row8\" class=\"row_heading level0 row8\" >RAD</th>\n",
       "                        <td id=\"T_d932f57a_e0ed_11ea_b347_5cc9d372dcb7row8_col0\" class=\"data row8 col0\" >0.625505</td>\n",
       "                        <td id=\"T_d932f57a_e0ed_11ea_b347_5cc9d372dcb7row8_col1\" class=\"data row8 col1\" >-0.311948</td>\n",
       "                        <td id=\"T_d932f57a_e0ed_11ea_b347_5cc9d372dcb7row8_col2\" class=\"data row8 col2\" >0.595129</td>\n",
       "                        <td id=\"T_d932f57a_e0ed_11ea_b347_5cc9d372dcb7row8_col3\" class=\"data row8 col3\" >-0.007368</td>\n",
       "                        <td id=\"T_d932f57a_e0ed_11ea_b347_5cc9d372dcb7row8_col4\" class=\"data row8 col4\" >0.611441</td>\n",
       "                        <td id=\"T_d932f57a_e0ed_11ea_b347_5cc9d372dcb7row8_col5\" class=\"data row8 col5\" >-0.209847</td>\n",
       "                        <td id=\"T_d932f57a_e0ed_11ea_b347_5cc9d372dcb7row8_col6\" class=\"data row8 col6\" >0.456022</td>\n",
       "                        <td id=\"T_d932f57a_e0ed_11ea_b347_5cc9d372dcb7row8_col7\" class=\"data row8 col7\" >-0.494588</td>\n",
       "                        <td id=\"T_d932f57a_e0ed_11ea_b347_5cc9d372dcb7row8_col8\" class=\"data row8 col8\" >1.000000</td>\n",
       "                        <td id=\"T_d932f57a_e0ed_11ea_b347_5cc9d372dcb7row8_col9\" class=\"data row8 col9\" >0.910228</td>\n",
       "                        <td id=\"T_d932f57a_e0ed_11ea_b347_5cc9d372dcb7row8_col10\" class=\"data row8 col10\" >0.464741</td>\n",
       "                        <td id=\"T_d932f57a_e0ed_11ea_b347_5cc9d372dcb7row8_col11\" class=\"data row8 col11\" >-0.444413</td>\n",
       "                        <td id=\"T_d932f57a_e0ed_11ea_b347_5cc9d372dcb7row8_col12\" class=\"data row8 col12\" >0.488676</td>\n",
       "            </tr>\n",
       "            <tr>\n",
       "                        <th id=\"T_d932f57a_e0ed_11ea_b347_5cc9d372dcb7level0_row9\" class=\"row_heading level0 row9\" >TAX</th>\n",
       "                        <td id=\"T_d932f57a_e0ed_11ea_b347_5cc9d372dcb7row9_col0\" class=\"data row9 col0\" >0.582764</td>\n",
       "                        <td id=\"T_d932f57a_e0ed_11ea_b347_5cc9d372dcb7row9_col1\" class=\"data row9 col1\" >-0.314563</td>\n",
       "                        <td id=\"T_d932f57a_e0ed_11ea_b347_5cc9d372dcb7row9_col2\" class=\"data row9 col2\" >0.720760</td>\n",
       "                        <td id=\"T_d932f57a_e0ed_11ea_b347_5cc9d372dcb7row9_col3\" class=\"data row9 col3\" >-0.035587</td>\n",
       "                        <td id=\"T_d932f57a_e0ed_11ea_b347_5cc9d372dcb7row9_col4\" class=\"data row9 col4\" >0.668023</td>\n",
       "                        <td id=\"T_d932f57a_e0ed_11ea_b347_5cc9d372dcb7row9_col5\" class=\"data row9 col5\" >-0.292048</td>\n",
       "                        <td id=\"T_d932f57a_e0ed_11ea_b347_5cc9d372dcb7row9_col6\" class=\"data row9 col6\" >0.506456</td>\n",
       "                        <td id=\"T_d932f57a_e0ed_11ea_b347_5cc9d372dcb7row9_col7\" class=\"data row9 col7\" >-0.534432</td>\n",
       "                        <td id=\"T_d932f57a_e0ed_11ea_b347_5cc9d372dcb7row9_col8\" class=\"data row9 col8\" >0.910228</td>\n",
       "                        <td id=\"T_d932f57a_e0ed_11ea_b347_5cc9d372dcb7row9_col9\" class=\"data row9 col9\" >1.000000</td>\n",
       "                        <td id=\"T_d932f57a_e0ed_11ea_b347_5cc9d372dcb7row9_col10\" class=\"data row9 col10\" >0.460853</td>\n",
       "                        <td id=\"T_d932f57a_e0ed_11ea_b347_5cc9d372dcb7row9_col11\" class=\"data row9 col11\" >-0.441808</td>\n",
       "                        <td id=\"T_d932f57a_e0ed_11ea_b347_5cc9d372dcb7row9_col12\" class=\"data row9 col12\" >0.543993</td>\n",
       "            </tr>\n",
       "            <tr>\n",
       "                        <th id=\"T_d932f57a_e0ed_11ea_b347_5cc9d372dcb7level0_row10\" class=\"row_heading level0 row10\" >PTRATIO</th>\n",
       "                        <td id=\"T_d932f57a_e0ed_11ea_b347_5cc9d372dcb7row10_col0\" class=\"data row10 col0\" >0.289946</td>\n",
       "                        <td id=\"T_d932f57a_e0ed_11ea_b347_5cc9d372dcb7row10_col1\" class=\"data row10 col1\" >-0.391679</td>\n",
       "                        <td id=\"T_d932f57a_e0ed_11ea_b347_5cc9d372dcb7row10_col2\" class=\"data row10 col2\" >0.383248</td>\n",
       "                        <td id=\"T_d932f57a_e0ed_11ea_b347_5cc9d372dcb7row10_col3\" class=\"data row10 col3\" >-0.121515</td>\n",
       "                        <td id=\"T_d932f57a_e0ed_11ea_b347_5cc9d372dcb7row10_col4\" class=\"data row10 col4\" >0.188933</td>\n",
       "                        <td id=\"T_d932f57a_e0ed_11ea_b347_5cc9d372dcb7row10_col5\" class=\"data row10 col5\" >-0.355501</td>\n",
       "                        <td id=\"T_d932f57a_e0ed_11ea_b347_5cc9d372dcb7row10_col6\" class=\"data row10 col6\" >0.261515</td>\n",
       "                        <td id=\"T_d932f57a_e0ed_11ea_b347_5cc9d372dcb7row10_col7\" class=\"data row10 col7\" >-0.232471</td>\n",
       "                        <td id=\"T_d932f57a_e0ed_11ea_b347_5cc9d372dcb7row10_col8\" class=\"data row10 col8\" >0.464741</td>\n",
       "                        <td id=\"T_d932f57a_e0ed_11ea_b347_5cc9d372dcb7row10_col9\" class=\"data row10 col9\" >0.460853</td>\n",
       "                        <td id=\"T_d932f57a_e0ed_11ea_b347_5cc9d372dcb7row10_col10\" class=\"data row10 col10\" >1.000000</td>\n",
       "                        <td id=\"T_d932f57a_e0ed_11ea_b347_5cc9d372dcb7row10_col11\" class=\"data row10 col11\" >-0.177383</td>\n",
       "                        <td id=\"T_d932f57a_e0ed_11ea_b347_5cc9d372dcb7row10_col12\" class=\"data row10 col12\" >0.374044</td>\n",
       "            </tr>\n",
       "            <tr>\n",
       "                        <th id=\"T_d932f57a_e0ed_11ea_b347_5cc9d372dcb7level0_row11\" class=\"row_heading level0 row11\" >B</th>\n",
       "                        <td id=\"T_d932f57a_e0ed_11ea_b347_5cc9d372dcb7row11_col0\" class=\"data row11 col0\" >-0.385064</td>\n",
       "                        <td id=\"T_d932f57a_e0ed_11ea_b347_5cc9d372dcb7row11_col1\" class=\"data row11 col1\" >0.175520</td>\n",
       "                        <td id=\"T_d932f57a_e0ed_11ea_b347_5cc9d372dcb7row11_col2\" class=\"data row11 col2\" >-0.356977</td>\n",
       "                        <td id=\"T_d932f57a_e0ed_11ea_b347_5cc9d372dcb7row11_col3\" class=\"data row11 col3\" >0.048788</td>\n",
       "                        <td id=\"T_d932f57a_e0ed_11ea_b347_5cc9d372dcb7row11_col4\" class=\"data row11 col4\" >-0.380051</td>\n",
       "                        <td id=\"T_d932f57a_e0ed_11ea_b347_5cc9d372dcb7row11_col5\" class=\"data row11 col5\" >0.128069</td>\n",
       "                        <td id=\"T_d932f57a_e0ed_11ea_b347_5cc9d372dcb7row11_col6\" class=\"data row11 col6\" >-0.273534</td>\n",
       "                        <td id=\"T_d932f57a_e0ed_11ea_b347_5cc9d372dcb7row11_col7\" class=\"data row11 col7\" >0.291512</td>\n",
       "                        <td id=\"T_d932f57a_e0ed_11ea_b347_5cc9d372dcb7row11_col8\" class=\"data row11 col8\" >-0.444413</td>\n",
       "                        <td id=\"T_d932f57a_e0ed_11ea_b347_5cc9d372dcb7row11_col9\" class=\"data row11 col9\" >-0.441808</td>\n",
       "                        <td id=\"T_d932f57a_e0ed_11ea_b347_5cc9d372dcb7row11_col10\" class=\"data row11 col10\" >-0.177383</td>\n",
       "                        <td id=\"T_d932f57a_e0ed_11ea_b347_5cc9d372dcb7row11_col11\" class=\"data row11 col11\" >1.000000</td>\n",
       "                        <td id=\"T_d932f57a_e0ed_11ea_b347_5cc9d372dcb7row11_col12\" class=\"data row11 col12\" >-0.366087</td>\n",
       "            </tr>\n",
       "            <tr>\n",
       "                        <th id=\"T_d932f57a_e0ed_11ea_b347_5cc9d372dcb7level0_row12\" class=\"row_heading level0 row12\" >LSTAT</th>\n",
       "                        <td id=\"T_d932f57a_e0ed_11ea_b347_5cc9d372dcb7row12_col0\" class=\"data row12 col0\" >0.455621</td>\n",
       "                        <td id=\"T_d932f57a_e0ed_11ea_b347_5cc9d372dcb7row12_col1\" class=\"data row12 col1\" >-0.412995</td>\n",
       "                        <td id=\"T_d932f57a_e0ed_11ea_b347_5cc9d372dcb7row12_col2\" class=\"data row12 col2\" >0.603800</td>\n",
       "                        <td id=\"T_d932f57a_e0ed_11ea_b347_5cc9d372dcb7row12_col3\" class=\"data row12 col3\" >-0.053929</td>\n",
       "                        <td id=\"T_d932f57a_e0ed_11ea_b347_5cc9d372dcb7row12_col4\" class=\"data row12 col4\" >0.590879</td>\n",
       "                        <td id=\"T_d932f57a_e0ed_11ea_b347_5cc9d372dcb7row12_col5\" class=\"data row12 col5\" >-0.613808</td>\n",
       "                        <td id=\"T_d932f57a_e0ed_11ea_b347_5cc9d372dcb7row12_col6\" class=\"data row12 col6\" >0.602339</td>\n",
       "                        <td id=\"T_d932f57a_e0ed_11ea_b347_5cc9d372dcb7row12_col7\" class=\"data row12 col7\" >-0.496996</td>\n",
       "                        <td id=\"T_d932f57a_e0ed_11ea_b347_5cc9d372dcb7row12_col8\" class=\"data row12 col8\" >0.488676</td>\n",
       "                        <td id=\"T_d932f57a_e0ed_11ea_b347_5cc9d372dcb7row12_col9\" class=\"data row12 col9\" >0.543993</td>\n",
       "                        <td id=\"T_d932f57a_e0ed_11ea_b347_5cc9d372dcb7row12_col10\" class=\"data row12 col10\" >0.374044</td>\n",
       "                        <td id=\"T_d932f57a_e0ed_11ea_b347_5cc9d372dcb7row12_col11\" class=\"data row12 col11\" >-0.366087</td>\n",
       "                        <td id=\"T_d932f57a_e0ed_11ea_b347_5cc9d372dcb7row12_col12\" class=\"data row12 col12\" >1.000000</td>\n",
       "            </tr>\n",
       "    </tbody></table>"
      ],
      "text/plain": [
       "<pandas.io.formats.style.Styler at 0x7f51dac31d68>"
      ]
     },
     "execution_count": 51,
     "metadata": {},
     "output_type": "execute_result"
    }
   ],
   "source": [
    "corr.style.background_gradient(cmap='coolwarm')"
   ]
  },
  {
   "cell_type": "markdown",
   "metadata": {},
   "source": [
    "For a 'fancy' plot, you can use:"
   ]
  },
  {
   "cell_type": "code",
   "execution_count": 52,
   "metadata": {},
   "outputs": [],
   "source": [
    "import seaborn as sns\n",
    "import matplotlib.pyplot as plt"
   ]
  },
  {
   "cell_type": "code",
   "execution_count": 53,
   "metadata": {},
   "outputs": [
    {
     "data": {
      "text/plain": [
       "Text(0.5, 1, 'Correlation Heatmap')"
      ]
     },
     "execution_count": 53,
     "metadata": {},
     "output_type": "execute_result"
    },
    {
     "data": {
      "image/png": "[encoded data removed]",
      "text/plain": [
       "<Figure size 720x720 with 2 Axes>"
      ]
     },
     "metadata": {
      "needs_background": "light"
     },
     "output_type": "display_data"
    }
   ],
   "source": [
    "fig, ax = plt.subplots(figsize=(10,10))\n",
    "sns.heatmap(corr, vmax=1.0, center=0, fmt='.2f', square=True, annot=True)\n",
    "plt.title('Correlation Heatmap')"
   ]
  },
  {
   "cell_type": "markdown",
   "metadata": {},
   "source": [
    "### 6.5 Histogram"
   ]
  },
  {
   "cell_type": "markdown",
   "metadata": {},
   "source": [
    "If you want to create an histogram you can use your data frame too, just passing some collumn, for example:"
   ]
  },
  {
   "cell_type": "code",
   "execution_count": 54,
   "metadata": {},
   "outputs": [
    {
     "data": {
      "text/plain": [
       "Text(0.5, 0, 'AGE')"
      ]
     },
     "execution_count": 54,
     "metadata": {},
     "output_type": "execute_result"
    },
    {
     "data": {
      "image/png": "[encoded data removed]",
      "text/plain": [
       "<Figure size 432x288 with 1 Axes>"
      ]
     },
     "metadata": {
      "needs_background": "light"
     },
     "output_type": "display_data"
    }
   ],
   "source": [
    "df_boston['AGE'].hist(bins = 42)\n",
    "plt.ylabel('Count')\n",
    "plt.xlabel('AGE')"
   ]
  },
  {
   "cell_type": "markdown",
   "metadata": {},
   "source": [
    "You can use your own definition of bins defining, for instance $3$ age bins using maximum and minimum values:"
   ]
  },
  {
   "cell_type": "code",
   "execution_count": 55,
   "metadata": {},
   "outputs": [
    {
     "data": {
      "text/plain": [
       "array([  2.9       ,  35.26666667,  67.63333333, 100.        ])"
      ]
     },
     "execution_count": 55,
     "metadata": {},
     "output_type": "execute_result"
    }
   ],
   "source": [
    "bins = np.linspace( min(df_boston['AGE']), max(df_boston['AGE']), 4)\n",
    "bins"
   ]
  },
  {
   "cell_type": "markdown",
   "metadata": {},
   "source": [
    "Giving the bins names:"
   ]
  },
  {
   "cell_type": "code",
   "execution_count": 56,
   "metadata": {},
   "outputs": [],
   "source": [
    "names = ['Low age', 'Medium age', 'High age']"
   ]
  },
  {
   "cell_type": "markdown",
   "metadata": {},
   "source": [
    "And use the `.cut()` function to determine what each value belongs too:"
   ]
  },
  {
   "cell_type": "code",
   "execution_count": 57,
   "metadata": {},
   "outputs": [
    {
     "data": {
      "text/html": [
       "<div>\n",
       "<style scoped>\n",
       "    .dataframe tbody tr th:only-of-type {\n",
       "        vertical-align: middle;\n",
       "    }\n",
       "\n",
       "    .dataframe tbody tr th {\n",
       "        vertical-align: top;\n",
       "    }\n",
       "\n",
       "    .dataframe thead th {\n",
       "        text-align: right;\n",
       "    }\n",
       "</style>\n",
       "<table border=\"1\" class=\"dataframe\">\n",
       "  <thead>\n",
       "    <tr style=\"text-align: right;\">\n",
       "      <th></th>\n",
       "      <th>AGE</th>\n",
       "      <th>AGE-binned</th>\n",
       "    </tr>\n",
       "  </thead>\n",
       "  <tbody>\n",
       "    <tr>\n",
       "      <th>47</th>\n",
       "      <td>85.5</td>\n",
       "      <td>High age</td>\n",
       "    </tr>\n",
       "    <tr>\n",
       "      <th>462</th>\n",
       "      <td>83.0</td>\n",
       "      <td>High age</td>\n",
       "    </tr>\n",
       "    <tr>\n",
       "      <th>333</th>\n",
       "      <td>38.1</td>\n",
       "      <td>Medium age</td>\n",
       "    </tr>\n",
       "    <tr>\n",
       "      <th>81</th>\n",
       "      <td>70.4</td>\n",
       "      <td>High age</td>\n",
       "    </tr>\n",
       "    <tr>\n",
       "      <th>102</th>\n",
       "      <td>85.4</td>\n",
       "      <td>High age</td>\n",
       "    </tr>\n",
       "    <tr>\n",
       "      <th>97</th>\n",
       "      <td>76.0</td>\n",
       "      <td>High age</td>\n",
       "    </tr>\n",
       "    <tr>\n",
       "      <th>456</th>\n",
       "      <td>87.9</td>\n",
       "      <td>High age</td>\n",
       "    </tr>\n",
       "    <tr>\n",
       "      <th>495</th>\n",
       "      <td>28.8</td>\n",
       "      <td>Low age</td>\n",
       "    </tr>\n",
       "    <tr>\n",
       "      <th>328</th>\n",
       "      <td>25.8</td>\n",
       "      <td>Low age</td>\n",
       "    </tr>\n",
       "    <tr>\n",
       "      <th>148</th>\n",
       "      <td>93.8</td>\n",
       "      <td>High age</td>\n",
       "    </tr>\n",
       "  </tbody>\n",
       "</table>\n",
       "</div>"
      ],
      "text/plain": [
       "      AGE  AGE-binned\n",
       "47   85.5    High age\n",
       "462  83.0    High age\n",
       "333  38.1  Medium age\n",
       "81   70.4    High age\n",
       "102  85.4    High age\n",
       "97   76.0    High age\n",
       "456  87.9    High age\n",
       "495  28.8     Low age\n",
       "328  25.8     Low age\n",
       "148  93.8    High age"
      ]
     },
     "execution_count": 57,
     "metadata": {},
     "output_type": "execute_result"
    }
   ],
   "source": [
    "df_boston['AGE-binned'] = pd.cut(df_boston['AGE'], bins, labels = names, include_lowest = True )\n",
    "df_boston[['AGE','AGE-binned']].sample(10)"
   ]
  },
  {
   "cell_type": "markdown",
   "metadata": {},
   "source": [
    "Note that, the `.sample()` method have sampled the DataFrame! It is useful to have well representative pieces from some dataset when you are arranging it in parts."
   ]
  },
  {
   "cell_type": "markdown",
   "metadata": {},
   "source": [
    "Finally, we can plot:"
   ]
  },
  {
   "cell_type": "code",
   "execution_count": 58,
   "metadata": {},
   "outputs": [
    {
     "data": {
      "text/plain": [
       "Text(0, 0.5, 'Counts')"
      ]
     },
     "execution_count": 58,
     "metadata": {},
     "output_type": "execute_result"
    },
    {
     "data": {
      "image/png": "[encoded data removed]",
      "text/plain": [
       "<Figure size 432x288 with 1 Axes>"
      ]
     },
     "metadata": {
      "needs_background": "light"
     },
     "output_type": "display_data"
    }
   ],
   "source": [
    "plt.bar(names, df_boston[\"AGE-binned\"].value_counts())\n",
    "plt.ylabel('Counts')"
   ]
  },
  {
   "cell_type": "markdown",
   "metadata": {},
   "source": [
    "### 6.6 Grouping data"
   ]
  },
  {
   "cell_type": "markdown",
   "metadata": {},
   "source": [
    "Using the above group you can extract statistics from that `grouping` using the function `.groupby()`. For example, computing the mean age for each bin, we have:"
   ]
  },
  {
   "cell_type": "code",
   "execution_count": 59,
   "metadata": {},
   "outputs": [
    {
     "data": {
      "text/plain": [
       "AGE-binned\n",
       "Low age       22.835165\n",
       "Medium age    51.242017\n",
       "High age      89.605068\n",
       "Name: AGE, dtype: float64"
      ]
     },
     "execution_count": 59,
     "metadata": {},
     "output_type": "execute_result"
    }
   ],
   "source": [
    "df_boston.groupby(['AGE-binned'])['AGE'].mean()"
   ]
  },
  {
   "cell_type": "markdown",
   "metadata": {},
   "source": [
    "## 7. References\n",
    "\n",
    "See the references along this notebook too:\n",
    "\n",
    "- [Python Pandas Tutorial](https://www.learndatasci.com/tutorials/python-pandas-tutorial-complete-introduction-for-beginners/)\n",
    "\n",
    "- [Boston Dataset](https://www.engineeringbigdata.com/boston-dataset-scikit-learn-machine-learning-in-python/)\n",
    "\n",
    "- [Pandas getting started](https://pandas.pydata.org/docs/getting_started/index.html)\n",
    "\n",
    "- [Pandas stack overflow](https://stackoverflow.com/questions/tagged/pandas)\n",
    "\n",
    "- [Data sets](https://machinelearningmastery.com/standard-machine-learning-datasets/)"
   ]
  },
  {
   "cell_type": "code",
   "execution_count": null,
   "metadata": {},
   "outputs": [],
   "source": []
  }
 ],
 "metadata": {
  "kernelspec": {
   "display_name": "Python 3",
   "language": "python",
   "name": "python3"
  },
  "language_info": {
   "codemirror_mode": {
    "name": "ipython",
    "version": 3
   },
   "file_extension": ".py",
   "mimetype": "text/x-python",
   "name": "python",
   "nbconvert_exporter": "python",
   "pygments_lexer": "ipython3",
   "version": "3.6.9"
  }
 },
 "nbformat": 4,
 "nbformat_minor": 4
}
